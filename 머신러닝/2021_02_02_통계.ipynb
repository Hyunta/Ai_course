{
  "nbformat": 4,
  "nbformat_minor": 0,
  "metadata": {
    "colab": {
      "name": "2021-02-02 통계.ipynb",
      "provenance": [],
      "authorship_tag": "ABX9TyPWO8U34Z83pV6KPdoSl3Ub",
      "include_colab_link": true
    },
    "kernelspec": {
      "name": "python3",
      "display_name": "Python 3"
    }
  },
  "cells": [
    {
      "cell_type": "markdown",
      "metadata": {
        "id": "view-in-github",
        "colab_type": "text"
      },
      "source": [
        "<a href=\"https://colab.research.google.com/github/Hyunta/Bigdata/blob/main/2021_02_02_%ED%86%B5%EA%B3%84.ipynb\" target=\"_parent\"><img src=\"https://colab.research.google.com/assets/colab-badge.svg\" alt=\"Open In Colab\"/></a>"
      ]
    },
    {
      "cell_type": "code",
      "metadata": {
        "colab": {
          "base_uri": "https://localhost:8080/"
        },
        "id": "957gZ6iLPDMK",
        "outputId": "0b6b22f4-4143-4b8b-d5fb-87b901d46465"
      },
      "source": [
        "#그래프의 글자를 선명하게 출력하도록 설정 \r\n",
        "%config InlineBackend.figure_format = 'retina'\r\n",
        "#나눔 글자체 설치 \r\n",
        "!apt -qq -y install fonts-nanum"
      ],
      "execution_count": 1,
      "outputs": [
        {
          "output_type": "stream",
          "text": [
            "fonts-nanum is already the newest version (20170925-1).\n",
            "0 upgraded, 0 newly installed, 0 to remove and 13 not upgraded.\n"
          ],
          "name": "stdout"
        }
      ]
    },
    {
      "cell_type": "code",
      "metadata": {
        "id": "SPdkR8liPGQM"
      },
      "source": [
        "#그래프의 전체적인 설정을 하는 객체\r\n",
        "import matplotlib as mpl\r\n",
        "#그래프를 그리는 객체\r\n",
        "import matplotlib.pyplot as plt"
      ],
      "execution_count": 2,
      "outputs": []
    },
    {
      "cell_type": "code",
      "metadata": {
        "id": "U99-7QjPPHQx"
      },
      "source": [
        "import matplotlib.font_manager as fm\r\n",
        "#나눔고딕 글자체의 전체 경로 설정\r\n",
        "fontpath = '/usr/share/fonts/truetype/nanum/NanumBarunGothic.ttf'\r\n",
        "#글자체의 경로와 글자 크기 설정\r\n",
        "font = fm.FontProperties(fname=fontpath, size=9)\r\n"
      ],
      "execution_count": 3,
      "outputs": []
    },
    {
      "cell_type": "code",
      "metadata": {
        "id": "69dO7opqPHtU"
      },
      "source": [
        "#폰트 이름 설정\r\n",
        "plt.rc('font', family='NanumBarunGothic') \r\n",
        "#폰트 업데이트\r\n",
        "mpl.font_manager._rebuild()"
      ],
      "execution_count": 4,
      "outputs": []
    },
    {
      "cell_type": "code",
      "metadata": {
        "id": "OSNytYTQLT2G"
      },
      "source": [
        "import pandas as pd"
      ],
      "execution_count": 5,
      "outputs": []
    },
    {
      "cell_type": "code",
      "metadata": {
        "colab": {
          "base_uri": "https://localhost:8080/",
          "height": 1000
        },
        "id": "3-rp311xLran",
        "outputId": "056ab9dc-63d2-41ac-fe9d-89dfd53e10e9"
      },
      "source": [
        "pd.read_csv(\"cafedata.csv\")"
      ],
      "execution_count": 6,
      "outputs": [
        {
          "output_type": "execute_result",
          "data": {
            "text/html": [
              "<div>\n",
              "<style scoped>\n",
              "    .dataframe tbody tr th:only-of-type {\n",
              "        vertical-align: middle;\n",
              "    }\n",
              "\n",
              "    .dataframe tbody tr th {\n",
              "        vertical-align: top;\n",
              "    }\n",
              "\n",
              "    .dataframe thead th {\n",
              "        text-align: right;\n",
              "    }\n",
              "</style>\n",
              "<table border=\"1\" class=\"dataframe\">\n",
              "  <thead>\n",
              "    <tr style=\"text-align: right;\">\n",
              "      <th></th>\n",
              "      <th>t</th>\n",
              "      <th>Date</th>\n",
              "      <th>Day Code</th>\n",
              "      <th>Day of Week</th>\n",
              "      <th>Bread Sand Sold</th>\n",
              "      <th>Bread Sand Waste</th>\n",
              "      <th>Wraps Sold</th>\n",
              "      <th>Wraps Waste</th>\n",
              "      <th>Muffins Sold</th>\n",
              "      <th>Muffins Waste</th>\n",
              "      <th>Cookies Sold</th>\n",
              "      <th>Cookies Waste</th>\n",
              "      <th>Fruit Cup Sold</th>\n",
              "      <th>Fruit Cup Waste</th>\n",
              "      <th>Chips</th>\n",
              "      <th>Juices</th>\n",
              "      <th>Sodas</th>\n",
              "      <th>Coffees</th>\n",
              "      <th>Total Soda and Coffee</th>\n",
              "      <th>Sales</th>\n",
              "      <th>Max Daily Temperature (F)</th>\n",
              "      <th>Total Items Wasted</th>\n",
              "    </tr>\n",
              "  </thead>\n",
              "  <tbody>\n",
              "    <tr>\n",
              "      <th>0</th>\n",
              "      <td>1</td>\n",
              "      <td>2010-01-19</td>\n",
              "      <td>2</td>\n",
              "      <td>Tue</td>\n",
              "      <td>5</td>\n",
              "      <td>3</td>\n",
              "      <td>25</td>\n",
              "      <td>5</td>\n",
              "      <td>5</td>\n",
              "      <td>1</td>\n",
              "      <td>5</td>\n",
              "      <td>3</td>\n",
              "      <td>1</td>\n",
              "      <td>4</td>\n",
              "      <td>12</td>\n",
              "      <td>8</td>\n",
              "      <td>20</td>\n",
              "      <td>41</td>\n",
              "      <td>61</td>\n",
              "      <td>199.95</td>\n",
              "      <td>36</td>\n",
              "      <td>16</td>\n",
              "    </tr>\n",
              "    <tr>\n",
              "      <th>1</th>\n",
              "      <td>2</td>\n",
              "      <td>2010-01-20</td>\n",
              "      <td>3</td>\n",
              "      <td>Wed</td>\n",
              "      <td>6</td>\n",
              "      <td>8</td>\n",
              "      <td>7</td>\n",
              "      <td>17</td>\n",
              "      <td>3</td>\n",
              "      <td>5</td>\n",
              "      <td>1</td>\n",
              "      <td>6</td>\n",
              "      <td>0</td>\n",
              "      <td>3</td>\n",
              "      <td>0</td>\n",
              "      <td>0</td>\n",
              "      <td>13</td>\n",
              "      <td>33</td>\n",
              "      <td>46</td>\n",
              "      <td>195.74</td>\n",
              "      <td>34</td>\n",
              "      <td>39</td>\n",
              "    </tr>\n",
              "    <tr>\n",
              "      <th>2</th>\n",
              "      <td>3</td>\n",
              "      <td>2010-01-21</td>\n",
              "      <td>4</td>\n",
              "      <td>Thu</td>\n",
              "      <td>8</td>\n",
              "      <td>2</td>\n",
              "      <td>14</td>\n",
              "      <td>0</td>\n",
              "      <td>4</td>\n",
              "      <td>0</td>\n",
              "      <td>1</td>\n",
              "      <td>0</td>\n",
              "      <td>0</td>\n",
              "      <td>3</td>\n",
              "      <td>0</td>\n",
              "      <td>13</td>\n",
              "      <td>23</td>\n",
              "      <td>34</td>\n",
              "      <td>57</td>\n",
              "      <td>102.68</td>\n",
              "      <td>39</td>\n",
              "      <td>5</td>\n",
              "    </tr>\n",
              "    <tr>\n",
              "      <th>3</th>\n",
              "      <td>4</td>\n",
              "      <td>2010-01-22</td>\n",
              "      <td>5</td>\n",
              "      <td>Fri</td>\n",
              "      <td>4</td>\n",
              "      <td>2</td>\n",
              "      <td>5</td>\n",
              "      <td>7</td>\n",
              "      <td>5</td>\n",
              "      <td>0</td>\n",
              "      <td>3</td>\n",
              "      <td>1</td>\n",
              "      <td>3</td>\n",
              "      <td>0</td>\n",
              "      <td>20</td>\n",
              "      <td>0</td>\n",
              "      <td>13</td>\n",
              "      <td>27</td>\n",
              "      <td>40</td>\n",
              "      <td>162.88</td>\n",
              "      <td>40</td>\n",
              "      <td>10</td>\n",
              "    </tr>\n",
              "    <tr>\n",
              "      <th>4</th>\n",
              "      <td>5</td>\n",
              "      <td>2010-01-25</td>\n",
              "      <td>1</td>\n",
              "      <td>Mon</td>\n",
              "      <td>3</td>\n",
              "      <td>0</td>\n",
              "      <td>10</td>\n",
              "      <td>0</td>\n",
              "      <td>8</td>\n",
              "      <td>0</td>\n",
              "      <td>3</td>\n",
              "      <td>0</td>\n",
              "      <td>2</td>\n",
              "      <td>0</td>\n",
              "      <td>0</td>\n",
              "      <td>5</td>\n",
              "      <td>13</td>\n",
              "      <td>20</td>\n",
              "      <td>33</td>\n",
              "      <td>101.76</td>\n",
              "      <td>36</td>\n",
              "      <td>0</td>\n",
              "    </tr>\n",
              "    <tr>\n",
              "      <th>5</th>\n",
              "      <td>6</td>\n",
              "      <td>2010-01-26</td>\n",
              "      <td>2</td>\n",
              "      <td>Tue</td>\n",
              "      <td>7</td>\n",
              "      <td>1</td>\n",
              "      <td>5</td>\n",
              "      <td>3</td>\n",
              "      <td>1</td>\n",
              "      <td>0</td>\n",
              "      <td>5</td>\n",
              "      <td>0</td>\n",
              "      <td>2</td>\n",
              "      <td>0</td>\n",
              "      <td>4</td>\n",
              "      <td>4</td>\n",
              "      <td>33</td>\n",
              "      <td>23</td>\n",
              "      <td>56</td>\n",
              "      <td>186.94</td>\n",
              "      <td>26</td>\n",
              "      <td>4</td>\n",
              "    </tr>\n",
              "    <tr>\n",
              "      <th>6</th>\n",
              "      <td>7</td>\n",
              "      <td>2010-01-27</td>\n",
              "      <td>3</td>\n",
              "      <td>Wed</td>\n",
              "      <td>6</td>\n",
              "      <td>6</td>\n",
              "      <td>19</td>\n",
              "      <td>3</td>\n",
              "      <td>6</td>\n",
              "      <td>0</td>\n",
              "      <td>10</td>\n",
              "      <td>0</td>\n",
              "      <td>2</td>\n",
              "      <td>0</td>\n",
              "      <td>2</td>\n",
              "      <td>5</td>\n",
              "      <td>15</td>\n",
              "      <td>32</td>\n",
              "      <td>47</td>\n",
              "      <td>120.18</td>\n",
              "      <td>34</td>\n",
              "      <td>9</td>\n",
              "    </tr>\n",
              "    <tr>\n",
              "      <th>7</th>\n",
              "      <td>8</td>\n",
              "      <td>2010-01-28</td>\n",
              "      <td>4</td>\n",
              "      <td>Thu</td>\n",
              "      <td>0</td>\n",
              "      <td>0</td>\n",
              "      <td>7</td>\n",
              "      <td>0</td>\n",
              "      <td>6</td>\n",
              "      <td>1</td>\n",
              "      <td>0</td>\n",
              "      <td>0</td>\n",
              "      <td>0</td>\n",
              "      <td>0</td>\n",
              "      <td>20</td>\n",
              "      <td>6</td>\n",
              "      <td>27</td>\n",
              "      <td>31</td>\n",
              "      <td>58</td>\n",
              "      <td>228.78</td>\n",
              "      <td>33</td>\n",
              "      <td>1</td>\n",
              "    </tr>\n",
              "    <tr>\n",
              "      <th>8</th>\n",
              "      <td>9</td>\n",
              "      <td>2010-01-29</td>\n",
              "      <td>5</td>\n",
              "      <td>Fri</td>\n",
              "      <td>3</td>\n",
              "      <td>4</td>\n",
              "      <td>4</td>\n",
              "      <td>9</td>\n",
              "      <td>0</td>\n",
              "      <td>4</td>\n",
              "      <td>3</td>\n",
              "      <td>2</td>\n",
              "      <td>1</td>\n",
              "      <td>1</td>\n",
              "      <td>3</td>\n",
              "      <td>4</td>\n",
              "      <td>12</td>\n",
              "      <td>30</td>\n",
              "      <td>42</td>\n",
              "      <td>88.02</td>\n",
              "      <td>20</td>\n",
              "      <td>20</td>\n",
              "    </tr>\n",
              "    <tr>\n",
              "      <th>9</th>\n",
              "      <td>10</td>\n",
              "      <td>2010-02-01</td>\n",
              "      <td>1</td>\n",
              "      <td>Mon</td>\n",
              "      <td>2</td>\n",
              "      <td>6</td>\n",
              "      <td>13</td>\n",
              "      <td>3</td>\n",
              "      <td>3</td>\n",
              "      <td>0</td>\n",
              "      <td>6</td>\n",
              "      <td>0</td>\n",
              "      <td>2</td>\n",
              "      <td>0</td>\n",
              "      <td>16</td>\n",
              "      <td>7</td>\n",
              "      <td>19</td>\n",
              "      <td>27</td>\n",
              "      <td>46</td>\n",
              "      <td>119.57</td>\n",
              "      <td>37</td>\n",
              "      <td>9</td>\n",
              "    </tr>\n",
              "    <tr>\n",
              "      <th>10</th>\n",
              "      <td>11</td>\n",
              "      <td>2010-02-02</td>\n",
              "      <td>2</td>\n",
              "      <td>Tue</td>\n",
              "      <td>3</td>\n",
              "      <td>7</td>\n",
              "      <td>10</td>\n",
              "      <td>2</td>\n",
              "      <td>5</td>\n",
              "      <td>0</td>\n",
              "      <td>5</td>\n",
              "      <td>0</td>\n",
              "      <td>1</td>\n",
              "      <td>0</td>\n",
              "      <td>2</td>\n",
              "      <td>0</td>\n",
              "      <td>33</td>\n",
              "      <td>30</td>\n",
              "      <td>63</td>\n",
              "      <td>172.31</td>\n",
              "      <td>38</td>\n",
              "      <td>9</td>\n",
              "    </tr>\n",
              "    <tr>\n",
              "      <th>11</th>\n",
              "      <td>12</td>\n",
              "      <td>2010-02-03</td>\n",
              "      <td>3</td>\n",
              "      <td>Wed</td>\n",
              "      <td>4</td>\n",
              "      <td>4</td>\n",
              "      <td>15</td>\n",
              "      <td>0</td>\n",
              "      <td>4</td>\n",
              "      <td>1</td>\n",
              "      <td>4</td>\n",
              "      <td>1</td>\n",
              "      <td>2</td>\n",
              "      <td>0</td>\n",
              "      <td>9</td>\n",
              "      <td>6</td>\n",
              "      <td>20</td>\n",
              "      <td>27</td>\n",
              "      <td>47</td>\n",
              "      <td>137.65</td>\n",
              "      <td>33</td>\n",
              "      <td>6</td>\n",
              "    </tr>\n",
              "    <tr>\n",
              "      <th>12</th>\n",
              "      <td>13</td>\n",
              "      <td>2010-02-04</td>\n",
              "      <td>4</td>\n",
              "      <td>Thu</td>\n",
              "      <td>9</td>\n",
              "      <td>1</td>\n",
              "      <td>13</td>\n",
              "      <td>0</td>\n",
              "      <td>14</td>\n",
              "      <td>0</td>\n",
              "      <td>13</td>\n",
              "      <td>0</td>\n",
              "      <td>3</td>\n",
              "      <td>0</td>\n",
              "      <td>13</td>\n",
              "      <td>6</td>\n",
              "      <td>29</td>\n",
              "      <td>26</td>\n",
              "      <td>55</td>\n",
              "      <td>197.56</td>\n",
              "      <td>39</td>\n",
              "      <td>1</td>\n",
              "    </tr>\n",
              "    <tr>\n",
              "      <th>13</th>\n",
              "      <td>14</td>\n",
              "      <td>2010-02-05</td>\n",
              "      <td>5</td>\n",
              "      <td>Fri</td>\n",
              "      <td>1</td>\n",
              "      <td>1</td>\n",
              "      <td>6</td>\n",
              "      <td>2</td>\n",
              "      <td>2</td>\n",
              "      <td>0</td>\n",
              "      <td>1</td>\n",
              "      <td>1</td>\n",
              "      <td>0</td>\n",
              "      <td>0</td>\n",
              "      <td>10</td>\n",
              "      <td>1</td>\n",
              "      <td>14</td>\n",
              "      <td>24</td>\n",
              "      <td>38</td>\n",
              "      <td>70.00</td>\n",
              "      <td>35</td>\n",
              "      <td>4</td>\n",
              "    </tr>\n",
              "    <tr>\n",
              "      <th>14</th>\n",
              "      <td>15</td>\n",
              "      <td>2010-02-08</td>\n",
              "      <td>1</td>\n",
              "      <td>Mon</td>\n",
              "      <td>3</td>\n",
              "      <td>5</td>\n",
              "      <td>14</td>\n",
              "      <td>2</td>\n",
              "      <td>2</td>\n",
              "      <td>0</td>\n",
              "      <td>8</td>\n",
              "      <td>0</td>\n",
              "      <td>1</td>\n",
              "      <td>0</td>\n",
              "      <td>9</td>\n",
              "      <td>2</td>\n",
              "      <td>17</td>\n",
              "      <td>18</td>\n",
              "      <td>35</td>\n",
              "      <td>97.00</td>\n",
              "      <td>31</td>\n",
              "      <td>7</td>\n",
              "    </tr>\n",
              "    <tr>\n",
              "      <th>15</th>\n",
              "      <td>16</td>\n",
              "      <td>2010-02-09</td>\n",
              "      <td>2</td>\n",
              "      <td>Tue</td>\n",
              "      <td>8</td>\n",
              "      <td>0</td>\n",
              "      <td>16</td>\n",
              "      <td>0</td>\n",
              "      <td>11</td>\n",
              "      <td>0</td>\n",
              "      <td>9</td>\n",
              "      <td>1</td>\n",
              "      <td>2</td>\n",
              "      <td>0</td>\n",
              "      <td>11</td>\n",
              "      <td>8</td>\n",
              "      <td>31</td>\n",
              "      <td>22</td>\n",
              "      <td>53</td>\n",
              "      <td>181.43</td>\n",
              "      <td>29</td>\n",
              "      <td>1</td>\n",
              "    </tr>\n",
              "    <tr>\n",
              "      <th>16</th>\n",
              "      <td>17</td>\n",
              "      <td>2010-02-10</td>\n",
              "      <td>3</td>\n",
              "      <td>Wed</td>\n",
              "      <td>7</td>\n",
              "      <td>0</td>\n",
              "      <td>12</td>\n",
              "      <td>0</td>\n",
              "      <td>5</td>\n",
              "      <td>0</td>\n",
              "      <td>7</td>\n",
              "      <td>3</td>\n",
              "      <td>1</td>\n",
              "      <td>0</td>\n",
              "      <td>14</td>\n",
              "      <td>3</td>\n",
              "      <td>24</td>\n",
              "      <td>21</td>\n",
              "      <td>45</td>\n",
              "      <td>125.57</td>\n",
              "      <td>26</td>\n",
              "      <td>3</td>\n",
              "    </tr>\n",
              "    <tr>\n",
              "      <th>17</th>\n",
              "      <td>18</td>\n",
              "      <td>2010-02-11</td>\n",
              "      <td>4</td>\n",
              "      <td>Thu</td>\n",
              "      <td>8</td>\n",
              "      <td>0</td>\n",
              "      <td>19</td>\n",
              "      <td>0</td>\n",
              "      <td>12</td>\n",
              "      <td>0</td>\n",
              "      <td>9</td>\n",
              "      <td>0</td>\n",
              "      <td>2</td>\n",
              "      <td>0</td>\n",
              "      <td>4</td>\n",
              "      <td>2</td>\n",
              "      <td>31</td>\n",
              "      <td>28</td>\n",
              "      <td>59</td>\n",
              "      <td>180.63</td>\n",
              "      <td>28</td>\n",
              "      <td>0</td>\n",
              "    </tr>\n",
              "    <tr>\n",
              "      <th>18</th>\n",
              "      <td>19</td>\n",
              "      <td>2010-02-12</td>\n",
              "      <td>5</td>\n",
              "      <td>Fri</td>\n",
              "      <td>2</td>\n",
              "      <td>0</td>\n",
              "      <td>4</td>\n",
              "      <td>0</td>\n",
              "      <td>0</td>\n",
              "      <td>0</td>\n",
              "      <td>2</td>\n",
              "      <td>0</td>\n",
              "      <td>2</td>\n",
              "      <td>0</td>\n",
              "      <td>25</td>\n",
              "      <td>2</td>\n",
              "      <td>15</td>\n",
              "      <td>23</td>\n",
              "      <td>38</td>\n",
              "      <td>75.87</td>\n",
              "      <td>30</td>\n",
              "      <td>0</td>\n",
              "    </tr>\n",
              "    <tr>\n",
              "      <th>19</th>\n",
              "      <td>20</td>\n",
              "      <td>2010-02-15</td>\n",
              "      <td>1</td>\n",
              "      <td>Mon</td>\n",
              "      <td>3</td>\n",
              "      <td>3</td>\n",
              "      <td>12</td>\n",
              "      <td>0</td>\n",
              "      <td>6</td>\n",
              "      <td>0</td>\n",
              "      <td>8</td>\n",
              "      <td>2</td>\n",
              "      <td>2</td>\n",
              "      <td>0</td>\n",
              "      <td>7</td>\n",
              "      <td>7</td>\n",
              "      <td>26</td>\n",
              "      <td>31</td>\n",
              "      <td>57</td>\n",
              "      <td>150.51</td>\n",
              "      <td>26</td>\n",
              "      <td>5</td>\n",
              "    </tr>\n",
              "    <tr>\n",
              "      <th>20</th>\n",
              "      <td>21</td>\n",
              "      <td>2010-02-16</td>\n",
              "      <td>2</td>\n",
              "      <td>Tue</td>\n",
              "      <td>8</td>\n",
              "      <td>0</td>\n",
              "      <td>22</td>\n",
              "      <td>0</td>\n",
              "      <td>1</td>\n",
              "      <td>0</td>\n",
              "      <td>3</td>\n",
              "      <td>1</td>\n",
              "      <td>3</td>\n",
              "      <td>0</td>\n",
              "      <td>13</td>\n",
              "      <td>5</td>\n",
              "      <td>39</td>\n",
              "      <td>29</td>\n",
              "      <td>68</td>\n",
              "      <td>177.41</td>\n",
              "      <td>29</td>\n",
              "      <td>1</td>\n",
              "    </tr>\n",
              "    <tr>\n",
              "      <th>21</th>\n",
              "      <td>22</td>\n",
              "      <td>2010-02-17</td>\n",
              "      <td>3</td>\n",
              "      <td>Wed</td>\n",
              "      <td>6</td>\n",
              "      <td>0</td>\n",
              "      <td>8</td>\n",
              "      <td>1</td>\n",
              "      <td>9</td>\n",
              "      <td>0</td>\n",
              "      <td>10</td>\n",
              "      <td>1</td>\n",
              "      <td>1</td>\n",
              "      <td>0</td>\n",
              "      <td>11</td>\n",
              "      <td>2</td>\n",
              "      <td>24</td>\n",
              "      <td>48</td>\n",
              "      <td>72</td>\n",
              "      <td>153.84</td>\n",
              "      <td>29</td>\n",
              "      <td>2</td>\n",
              "    </tr>\n",
              "    <tr>\n",
              "      <th>22</th>\n",
              "      <td>23</td>\n",
              "      <td>2010-02-18</td>\n",
              "      <td>4</td>\n",
              "      <td>Thu</td>\n",
              "      <td>4</td>\n",
              "      <td>2</td>\n",
              "      <td>19</td>\n",
              "      <td>0</td>\n",
              "      <td>10</td>\n",
              "      <td>0</td>\n",
              "      <td>9</td>\n",
              "      <td>0</td>\n",
              "      <td>3</td>\n",
              "      <td>0</td>\n",
              "      <td>8</td>\n",
              "      <td>12</td>\n",
              "      <td>35</td>\n",
              "      <td>25</td>\n",
              "      <td>60</td>\n",
              "      <td>205.36</td>\n",
              "      <td>34</td>\n",
              "      <td>2</td>\n",
              "    </tr>\n",
              "    <tr>\n",
              "      <th>23</th>\n",
              "      <td>24</td>\n",
              "      <td>2010-02-19</td>\n",
              "      <td>5</td>\n",
              "      <td>Fri</td>\n",
              "      <td>4</td>\n",
              "      <td>0</td>\n",
              "      <td>10</td>\n",
              "      <td>0</td>\n",
              "      <td>4</td>\n",
              "      <td>2</td>\n",
              "      <td>4</td>\n",
              "      <td>0</td>\n",
              "      <td>0</td>\n",
              "      <td>0</td>\n",
              "      <td>14</td>\n",
              "      <td>4</td>\n",
              "      <td>11</td>\n",
              "      <td>31</td>\n",
              "      <td>42</td>\n",
              "      <td>118.54</td>\n",
              "      <td>39</td>\n",
              "      <td>2</td>\n",
              "    </tr>\n",
              "    <tr>\n",
              "      <th>24</th>\n",
              "      <td>25</td>\n",
              "      <td>2010-02-22</td>\n",
              "      <td>1</td>\n",
              "      <td>Mon</td>\n",
              "      <td>6</td>\n",
              "      <td>0</td>\n",
              "      <td>16</td>\n",
              "      <td>0</td>\n",
              "      <td>9</td>\n",
              "      <td>0</td>\n",
              "      <td>7</td>\n",
              "      <td>0</td>\n",
              "      <td>1</td>\n",
              "      <td>0</td>\n",
              "      <td>11</td>\n",
              "      <td>2</td>\n",
              "      <td>25</td>\n",
              "      <td>25</td>\n",
              "      <td>50</td>\n",
              "      <td>138.04</td>\n",
              "      <td>36</td>\n",
              "      <td>0</td>\n",
              "    </tr>\n",
              "    <tr>\n",
              "      <th>25</th>\n",
              "      <td>26</td>\n",
              "      <td>2010-02-23</td>\n",
              "      <td>2</td>\n",
              "      <td>Tue</td>\n",
              "      <td>7</td>\n",
              "      <td>0</td>\n",
              "      <td>23</td>\n",
              "      <td>0</td>\n",
              "      <td>12</td>\n",
              "      <td>0</td>\n",
              "      <td>12</td>\n",
              "      <td>0</td>\n",
              "      <td>4</td>\n",
              "      <td>0</td>\n",
              "      <td>21</td>\n",
              "      <td>5</td>\n",
              "      <td>36</td>\n",
              "      <td>35</td>\n",
              "      <td>71</td>\n",
              "      <td>236.01</td>\n",
              "      <td>33</td>\n",
              "      <td>0</td>\n",
              "    </tr>\n",
              "    <tr>\n",
              "      <th>26</th>\n",
              "      <td>27</td>\n",
              "      <td>2010-02-24</td>\n",
              "      <td>3</td>\n",
              "      <td>Wed</td>\n",
              "      <td>6</td>\n",
              "      <td>0</td>\n",
              "      <td>15</td>\n",
              "      <td>0</td>\n",
              "      <td>1</td>\n",
              "      <td>0</td>\n",
              "      <td>6</td>\n",
              "      <td>1</td>\n",
              "      <td>1</td>\n",
              "      <td>0</td>\n",
              "      <td>11</td>\n",
              "      <td>5</td>\n",
              "      <td>33</td>\n",
              "      <td>33</td>\n",
              "      <td>66</td>\n",
              "      <td>149.58</td>\n",
              "      <td>28</td>\n",
              "      <td>1</td>\n",
              "    </tr>\n",
              "    <tr>\n",
              "      <th>27</th>\n",
              "      <td>28</td>\n",
              "      <td>2010-02-25</td>\n",
              "      <td>4</td>\n",
              "      <td>Thu</td>\n",
              "      <td>5</td>\n",
              "      <td>3</td>\n",
              "      <td>22</td>\n",
              "      <td>0</td>\n",
              "      <td>8</td>\n",
              "      <td>0</td>\n",
              "      <td>4</td>\n",
              "      <td>0</td>\n",
              "      <td>4</td>\n",
              "      <td>1</td>\n",
              "      <td>10</td>\n",
              "      <td>4</td>\n",
              "      <td>37</td>\n",
              "      <td>35</td>\n",
              "      <td>72</td>\n",
              "      <td>206.17</td>\n",
              "      <td>33</td>\n",
              "      <td>4</td>\n",
              "    </tr>\n",
              "    <tr>\n",
              "      <th>28</th>\n",
              "      <td>29</td>\n",
              "      <td>2010-02-26</td>\n",
              "      <td>5</td>\n",
              "      <td>Fri</td>\n",
              "      <td>2</td>\n",
              "      <td>0</td>\n",
              "      <td>5</td>\n",
              "      <td>0</td>\n",
              "      <td>28</td>\n",
              "      <td>1</td>\n",
              "      <td>8</td>\n",
              "      <td>0</td>\n",
              "      <td>0</td>\n",
              "      <td>1</td>\n",
              "      <td>11</td>\n",
              "      <td>21</td>\n",
              "      <td>22</td>\n",
              "      <td>16</td>\n",
              "      <td>38</td>\n",
              "      <td>93.10</td>\n",
              "      <td>35</td>\n",
              "      <td>2</td>\n",
              "    </tr>\n",
              "    <tr>\n",
              "      <th>29</th>\n",
              "      <td>30</td>\n",
              "      <td>2010-03-01</td>\n",
              "      <td>1</td>\n",
              "      <td>Mon</td>\n",
              "      <td>3</td>\n",
              "      <td>2</td>\n",
              "      <td>9</td>\n",
              "      <td>1</td>\n",
              "      <td>5</td>\n",
              "      <td>0</td>\n",
              "      <td>6</td>\n",
              "      <td>1</td>\n",
              "      <td>2</td>\n",
              "      <td>0</td>\n",
              "      <td>10</td>\n",
              "      <td>7</td>\n",
              "      <td>36</td>\n",
              "      <td>24</td>\n",
              "      <td>60</td>\n",
              "      <td>151.91</td>\n",
              "      <td>40</td>\n",
              "      <td>4</td>\n",
              "    </tr>\n",
              "    <tr>\n",
              "      <th>30</th>\n",
              "      <td>31</td>\n",
              "      <td>2010-03-02</td>\n",
              "      <td>2</td>\n",
              "      <td>Tue</td>\n",
              "      <td>8</td>\n",
              "      <td>0</td>\n",
              "      <td>21</td>\n",
              "      <td>1</td>\n",
              "      <td>10</td>\n",
              "      <td>0</td>\n",
              "      <td>9</td>\n",
              "      <td>1</td>\n",
              "      <td>2</td>\n",
              "      <td>0</td>\n",
              "      <td>12</td>\n",
              "      <td>7</td>\n",
              "      <td>54</td>\n",
              "      <td>20</td>\n",
              "      <td>74</td>\n",
              "      <td>217.29</td>\n",
              "      <td>39</td>\n",
              "      <td>2</td>\n",
              "    </tr>\n",
              "    <tr>\n",
              "      <th>31</th>\n",
              "      <td>32</td>\n",
              "      <td>2010-03-03</td>\n",
              "      <td>3</td>\n",
              "      <td>Wed</td>\n",
              "      <td>4</td>\n",
              "      <td>0</td>\n",
              "      <td>13</td>\n",
              "      <td>0</td>\n",
              "      <td>8</td>\n",
              "      <td>2</td>\n",
              "      <td>8</td>\n",
              "      <td>2</td>\n",
              "      <td>3</td>\n",
              "      <td>0</td>\n",
              "      <td>9</td>\n",
              "      <td>4</td>\n",
              "      <td>34</td>\n",
              "      <td>11</td>\n",
              "      <td>45</td>\n",
              "      <td>148.24</td>\n",
              "      <td>39</td>\n",
              "      <td>4</td>\n",
              "    </tr>\n",
              "    <tr>\n",
              "      <th>32</th>\n",
              "      <td>33</td>\n",
              "      <td>2010-03-04</td>\n",
              "      <td>4</td>\n",
              "      <td>Thu</td>\n",
              "      <td>4</td>\n",
              "      <td>0</td>\n",
              "      <td>14</td>\n",
              "      <td>0</td>\n",
              "      <td>6</td>\n",
              "      <td>0</td>\n",
              "      <td>8</td>\n",
              "      <td>0</td>\n",
              "      <td>2</td>\n",
              "      <td>0</td>\n",
              "      <td>8</td>\n",
              "      <td>5</td>\n",
              "      <td>43</td>\n",
              "      <td>21</td>\n",
              "      <td>64</td>\n",
              "      <td>168.08</td>\n",
              "      <td>45</td>\n",
              "      <td>0</td>\n",
              "    </tr>\n",
              "    <tr>\n",
              "      <th>33</th>\n",
              "      <td>35</td>\n",
              "      <td>2010-03-15</td>\n",
              "      <td>1</td>\n",
              "      <td>Mon</td>\n",
              "      <td>6</td>\n",
              "      <td>0</td>\n",
              "      <td>17</td>\n",
              "      <td>0</td>\n",
              "      <td>3</td>\n",
              "      <td>0</td>\n",
              "      <td>4</td>\n",
              "      <td>0</td>\n",
              "      <td>2</td>\n",
              "      <td>0</td>\n",
              "      <td>9</td>\n",
              "      <td>3</td>\n",
              "      <td>24</td>\n",
              "      <td>8</td>\n",
              "      <td>32</td>\n",
              "      <td>130.77</td>\n",
              "      <td>48</td>\n",
              "      <td>0</td>\n",
              "    </tr>\n",
              "    <tr>\n",
              "      <th>34</th>\n",
              "      <td>36</td>\n",
              "      <td>2010-03-16</td>\n",
              "      <td>2</td>\n",
              "      <td>Tue</td>\n",
              "      <td>7</td>\n",
              "      <td>1</td>\n",
              "      <td>19</td>\n",
              "      <td>0</td>\n",
              "      <td>5</td>\n",
              "      <td>2</td>\n",
              "      <td>13</td>\n",
              "      <td>0</td>\n",
              "      <td>1</td>\n",
              "      <td>0</td>\n",
              "      <td>11</td>\n",
              "      <td>4</td>\n",
              "      <td>48</td>\n",
              "      <td>8</td>\n",
              "      <td>56</td>\n",
              "      <td>164.54</td>\n",
              "      <td>61</td>\n",
              "      <td>3</td>\n",
              "    </tr>\n",
              "    <tr>\n",
              "      <th>35</th>\n",
              "      <td>37</td>\n",
              "      <td>2010-03-17</td>\n",
              "      <td>3</td>\n",
              "      <td>Wed</td>\n",
              "      <td>3</td>\n",
              "      <td>3</td>\n",
              "      <td>13</td>\n",
              "      <td>0</td>\n",
              "      <td>3</td>\n",
              "      <td>4</td>\n",
              "      <td>6</td>\n",
              "      <td>0</td>\n",
              "      <td>0</td>\n",
              "      <td>0</td>\n",
              "      <td>7</td>\n",
              "      <td>4</td>\n",
              "      <td>35</td>\n",
              "      <td>4</td>\n",
              "      <td>39</td>\n",
              "      <td>121.41</td>\n",
              "      <td>64</td>\n",
              "      <td>7</td>\n",
              "    </tr>\n",
              "    <tr>\n",
              "      <th>36</th>\n",
              "      <td>38</td>\n",
              "      <td>2010-03-18</td>\n",
              "      <td>4</td>\n",
              "      <td>Thu</td>\n",
              "      <td>5</td>\n",
              "      <td>3</td>\n",
              "      <td>15</td>\n",
              "      <td>3</td>\n",
              "      <td>1</td>\n",
              "      <td>2</td>\n",
              "      <td>5</td>\n",
              "      <td>2</td>\n",
              "      <td>4</td>\n",
              "      <td>0</td>\n",
              "      <td>8</td>\n",
              "      <td>5</td>\n",
              "      <td>33</td>\n",
              "      <td>4</td>\n",
              "      <td>37</td>\n",
              "      <td>127.93</td>\n",
              "      <td>64</td>\n",
              "      <td>10</td>\n",
              "    </tr>\n",
              "    <tr>\n",
              "      <th>37</th>\n",
              "      <td>39</td>\n",
              "      <td>2010-03-19</td>\n",
              "      <td>5</td>\n",
              "      <td>Fri</td>\n",
              "      <td>2</td>\n",
              "      <td>0</td>\n",
              "      <td>4</td>\n",
              "      <td>7</td>\n",
              "      <td>5</td>\n",
              "      <td>2</td>\n",
              "      <td>3</td>\n",
              "      <td>3</td>\n",
              "      <td>1</td>\n",
              "      <td>0</td>\n",
              "      <td>1</td>\n",
              "      <td>3</td>\n",
              "      <td>24</td>\n",
              "      <td>3</td>\n",
              "      <td>27</td>\n",
              "      <td>61.94</td>\n",
              "      <td>65</td>\n",
              "      <td>12</td>\n",
              "    </tr>\n",
              "    <tr>\n",
              "      <th>38</th>\n",
              "      <td>40</td>\n",
              "      <td>2010-03-22</td>\n",
              "      <td>1</td>\n",
              "      <td>Mon</td>\n",
              "      <td>4</td>\n",
              "      <td>2</td>\n",
              "      <td>13</td>\n",
              "      <td>4</td>\n",
              "      <td>3</td>\n",
              "      <td>0</td>\n",
              "      <td>2</td>\n",
              "      <td>4</td>\n",
              "      <td>2</td>\n",
              "      <td>0</td>\n",
              "      <td>8</td>\n",
              "      <td>7</td>\n",
              "      <td>30</td>\n",
              "      <td>5</td>\n",
              "      <td>35</td>\n",
              "      <td>128.59</td>\n",
              "      <td>47</td>\n",
              "      <td>10</td>\n",
              "    </tr>\n",
              "    <tr>\n",
              "      <th>39</th>\n",
              "      <td>41</td>\n",
              "      <td>2010-03-23</td>\n",
              "      <td>2</td>\n",
              "      <td>Tue</td>\n",
              "      <td>8</td>\n",
              "      <td>0</td>\n",
              "      <td>14</td>\n",
              "      <td>4</td>\n",
              "      <td>7</td>\n",
              "      <td>0</td>\n",
              "      <td>4</td>\n",
              "      <td>3</td>\n",
              "      <td>2</td>\n",
              "      <td>2</td>\n",
              "      <td>7</td>\n",
              "      <td>6</td>\n",
              "      <td>50</td>\n",
              "      <td>6</td>\n",
              "      <td>56</td>\n",
              "      <td>159.23</td>\n",
              "      <td>62</td>\n",
              "      <td>9</td>\n",
              "    </tr>\n",
              "    <tr>\n",
              "      <th>40</th>\n",
              "      <td>42</td>\n",
              "      <td>2010-03-24</td>\n",
              "      <td>3</td>\n",
              "      <td>Wed</td>\n",
              "      <td>4</td>\n",
              "      <td>0</td>\n",
              "      <td>9</td>\n",
              "      <td>0</td>\n",
              "      <td>8</td>\n",
              "      <td>0</td>\n",
              "      <td>5</td>\n",
              "      <td>4</td>\n",
              "      <td>2</td>\n",
              "      <td>0</td>\n",
              "      <td>7</td>\n",
              "      <td>5</td>\n",
              "      <td>45</td>\n",
              "      <td>4</td>\n",
              "      <td>49</td>\n",
              "      <td>148.08</td>\n",
              "      <td>66</td>\n",
              "      <td>4</td>\n",
              "    </tr>\n",
              "    <tr>\n",
              "      <th>41</th>\n",
              "      <td>43</td>\n",
              "      <td>2010-03-25</td>\n",
              "      <td>4</td>\n",
              "      <td>Thu</td>\n",
              "      <td>6</td>\n",
              "      <td>0</td>\n",
              "      <td>18</td>\n",
              "      <td>1</td>\n",
              "      <td>3</td>\n",
              "      <td>0</td>\n",
              "      <td>3</td>\n",
              "      <td>1</td>\n",
              "      <td>2</td>\n",
              "      <td>0</td>\n",
              "      <td>9</td>\n",
              "      <td>4</td>\n",
              "      <td>50</td>\n",
              "      <td>13</td>\n",
              "      <td>63</td>\n",
              "      <td>164.86</td>\n",
              "      <td>56</td>\n",
              "      <td>2</td>\n",
              "    </tr>\n",
              "    <tr>\n",
              "      <th>42</th>\n",
              "      <td>44</td>\n",
              "      <td>2010-03-26</td>\n",
              "      <td>5</td>\n",
              "      <td>Fri</td>\n",
              "      <td>1</td>\n",
              "      <td>1</td>\n",
              "      <td>4</td>\n",
              "      <td>1</td>\n",
              "      <td>3</td>\n",
              "      <td>1</td>\n",
              "      <td>5</td>\n",
              "      <td>1</td>\n",
              "      <td>1</td>\n",
              "      <td>1</td>\n",
              "      <td>3</td>\n",
              "      <td>2</td>\n",
              "      <td>26</td>\n",
              "      <td>4</td>\n",
              "      <td>30</td>\n",
              "      <td>74.13</td>\n",
              "      <td>49</td>\n",
              "      <td>5</td>\n",
              "    </tr>\n",
              "    <tr>\n",
              "      <th>43</th>\n",
              "      <td>45</td>\n",
              "      <td>2010-03-29</td>\n",
              "      <td>1</td>\n",
              "      <td>Mon</td>\n",
              "      <td>2</td>\n",
              "      <td>4</td>\n",
              "      <td>9</td>\n",
              "      <td>2</td>\n",
              "      <td>3</td>\n",
              "      <td>0</td>\n",
              "      <td>1</td>\n",
              "      <td>0</td>\n",
              "      <td>0</td>\n",
              "      <td>1</td>\n",
              "      <td>4</td>\n",
              "      <td>0</td>\n",
              "      <td>26</td>\n",
              "      <td>16</td>\n",
              "      <td>42</td>\n",
              "      <td>82.96</td>\n",
              "      <td>56</td>\n",
              "      <td>7</td>\n",
              "    </tr>\n",
              "    <tr>\n",
              "      <th>44</th>\n",
              "      <td>46</td>\n",
              "      <td>2010-03-30</td>\n",
              "      <td>2</td>\n",
              "      <td>Tue</td>\n",
              "      <td>6</td>\n",
              "      <td>0</td>\n",
              "      <td>25</td>\n",
              "      <td>0</td>\n",
              "      <td>11</td>\n",
              "      <td>1</td>\n",
              "      <td>9</td>\n",
              "      <td>0</td>\n",
              "      <td>4</td>\n",
              "      <td>0</td>\n",
              "      <td>9</td>\n",
              "      <td>10</td>\n",
              "      <td>55</td>\n",
              "      <td>14</td>\n",
              "      <td>69</td>\n",
              "      <td>240.87</td>\n",
              "      <td>62</td>\n",
              "      <td>1</td>\n",
              "    </tr>\n",
              "    <tr>\n",
              "      <th>45</th>\n",
              "      <td>47</td>\n",
              "      <td>2010-03-31</td>\n",
              "      <td>3</td>\n",
              "      <td>Wed</td>\n",
              "      <td>4</td>\n",
              "      <td>0</td>\n",
              "      <td>15</td>\n",
              "      <td>0</td>\n",
              "      <td>1</td>\n",
              "      <td>0</td>\n",
              "      <td>9</td>\n",
              "      <td>4</td>\n",
              "      <td>3</td>\n",
              "      <td>0</td>\n",
              "      <td>6</td>\n",
              "      <td>4</td>\n",
              "      <td>42</td>\n",
              "      <td>10</td>\n",
              "      <td>52</td>\n",
              "      <td>151.52</td>\n",
              "      <td>76</td>\n",
              "      <td>4</td>\n",
              "    </tr>\n",
              "    <tr>\n",
              "      <th>46</th>\n",
              "      <td>48</td>\n",
              "      <td>2010-04-01</td>\n",
              "      <td>4</td>\n",
              "      <td>Thu</td>\n",
              "      <td>4</td>\n",
              "      <td>0</td>\n",
              "      <td>16</td>\n",
              "      <td>0</td>\n",
              "      <td>6</td>\n",
              "      <td>0</td>\n",
              "      <td>6</td>\n",
              "      <td>0</td>\n",
              "      <td>1</td>\n",
              "      <td>0</td>\n",
              "      <td>11</td>\n",
              "      <td>3</td>\n",
              "      <td>45</td>\n",
              "      <td>11</td>\n",
              "      <td>56</td>\n",
              "      <td>150.99</td>\n",
              "      <td>80</td>\n",
              "      <td>0</td>\n",
              "    </tr>\n",
              "  </tbody>\n",
              "</table>\n",
              "</div>"
            ],
            "text/plain": [
              "     t        Date  ...  Max Daily Temperature (F) Total Items Wasted\n",
              "0    1  2010-01-19  ...                         36                 16\n",
              "1    2  2010-01-20  ...                         34                 39\n",
              "2    3  2010-01-21  ...                         39                  5\n",
              "3    4  2010-01-22  ...                         40                 10\n",
              "4    5  2010-01-25  ...                         36                  0\n",
              "5    6  2010-01-26  ...                         26                  4\n",
              "6    7  2010-01-27  ...                         34                  9\n",
              "7    8  2010-01-28  ...                         33                  1\n",
              "8    9  2010-01-29  ...                         20                 20\n",
              "9   10  2010-02-01  ...                         37                  9\n",
              "10  11  2010-02-02  ...                         38                  9\n",
              "11  12  2010-02-03  ...                         33                  6\n",
              "12  13  2010-02-04  ...                         39                  1\n",
              "13  14  2010-02-05  ...                         35                  4\n",
              "14  15  2010-02-08  ...                         31                  7\n",
              "15  16  2010-02-09  ...                         29                  1\n",
              "16  17  2010-02-10  ...                         26                  3\n",
              "17  18  2010-02-11  ...                         28                  0\n",
              "18  19  2010-02-12  ...                         30                  0\n",
              "19  20  2010-02-15  ...                         26                  5\n",
              "20  21  2010-02-16  ...                         29                  1\n",
              "21  22  2010-02-17  ...                         29                  2\n",
              "22  23  2010-02-18  ...                         34                  2\n",
              "23  24  2010-02-19  ...                         39                  2\n",
              "24  25  2010-02-22  ...                         36                  0\n",
              "25  26  2010-02-23  ...                         33                  0\n",
              "26  27  2010-02-24  ...                         28                  1\n",
              "27  28  2010-02-25  ...                         33                  4\n",
              "28  29  2010-02-26  ...                         35                  2\n",
              "29  30  2010-03-01  ...                         40                  4\n",
              "30  31  2010-03-02  ...                         39                  2\n",
              "31  32  2010-03-03  ...                         39                  4\n",
              "32  33  2010-03-04  ...                         45                  0\n",
              "33  35  2010-03-15  ...                         48                  0\n",
              "34  36  2010-03-16  ...                         61                  3\n",
              "35  37  2010-03-17  ...                         64                  7\n",
              "36  38  2010-03-18  ...                         64                 10\n",
              "37  39  2010-03-19  ...                         65                 12\n",
              "38  40  2010-03-22  ...                         47                 10\n",
              "39  41  2010-03-23  ...                         62                  9\n",
              "40  42  2010-03-24  ...                         66                  4\n",
              "41  43  2010-03-25  ...                         56                  2\n",
              "42  44  2010-03-26  ...                         49                  5\n",
              "43  45  2010-03-29  ...                         56                  7\n",
              "44  46  2010-03-30  ...                         62                  1\n",
              "45  47  2010-03-31  ...                         76                  4\n",
              "46  48  2010-04-01  ...                         80                  0\n",
              "\n",
              "[47 rows x 22 columns]"
            ]
          },
          "metadata": {
            "tags": []
          },
          "execution_count": 6
        }
      ]
    },
    {
      "cell_type": "code",
      "metadata": {
        "id": "fj-XVK7ELu64"
      },
      "source": [
        "df_cafe = pd.read_csv(\"cafedata.csv\")"
      ],
      "execution_count": 7,
      "outputs": []
    },
    {
      "cell_type": "code",
      "metadata": {
        "colab": {
          "base_uri": "https://localhost:8080/"
        },
        "id": "75GbnciPL2I9",
        "outputId": "19db97d6-bcb1-4126-dd5e-727d29d9252c"
      },
      "source": [
        "df_cafe[\"Coffees\"]"
      ],
      "execution_count": 8,
      "outputs": [
        {
          "output_type": "execute_result",
          "data": {
            "text/plain": [
              "0     41\n",
              "1     33\n",
              "2     34\n",
              "3     27\n",
              "4     20\n",
              "5     23\n",
              "6     32\n",
              "7     31\n",
              "8     30\n",
              "9     27\n",
              "10    30\n",
              "11    27\n",
              "12    26\n",
              "13    24\n",
              "14    18\n",
              "15    22\n",
              "16    21\n",
              "17    28\n",
              "18    23\n",
              "19    31\n",
              "20    29\n",
              "21    48\n",
              "22    25\n",
              "23    31\n",
              "24    25\n",
              "25    35\n",
              "26    33\n",
              "27    35\n",
              "28    16\n",
              "29    24\n",
              "30    20\n",
              "31    11\n",
              "32    21\n",
              "33     8\n",
              "34     8\n",
              "35     4\n",
              "36     4\n",
              "37     3\n",
              "38     5\n",
              "39     6\n",
              "40     4\n",
              "41    13\n",
              "42     4\n",
              "43    16\n",
              "44    14\n",
              "45    10\n",
              "46    11\n",
              "Name: Coffees, dtype: int64"
            ]
          },
          "metadata": {
            "tags": []
          },
          "execution_count": 8
        }
      ]
    },
    {
      "cell_type": "code",
      "metadata": {
        "colab": {
          "base_uri": "https://localhost:8080/"
        },
        "id": "r-bdjCCOL5lO",
        "outputId": "c7fabd33-5489-409b-e0e1-928e60672166"
      },
      "source": [
        "df_cafe[\"Coffees\"].value_counts()"
      ],
      "execution_count": 9,
      "outputs": [
        {
          "output_type": "execute_result",
          "data": {
            "text/plain": [
              "4     4\n",
              "27    3\n",
              "31    3\n",
              "23    2\n",
              "20    2\n",
              "21    2\n",
              "11    2\n",
              "24    2\n",
              "25    2\n",
              "8     2\n",
              "16    2\n",
              "30    2\n",
              "33    2\n",
              "35    2\n",
              "10    1\n",
              "6     1\n",
              "5     1\n",
              "13    1\n",
              "14    1\n",
              "48    1\n",
              "18    1\n",
              "22    1\n",
              "41    1\n",
              "26    1\n",
              "28    1\n",
              "29    1\n",
              "32    1\n",
              "34    1\n",
              "3     1\n",
              "Name: Coffees, dtype: int64"
            ]
          },
          "metadata": {
            "tags": []
          },
          "execution_count": 9
        }
      ]
    },
    {
      "cell_type": "code",
      "metadata": {
        "colab": {
          "base_uri": "https://localhost:8080/"
        },
        "id": "Lwq_PvWcL-Xx",
        "outputId": "8e0abd83-7b02-4c0c-bcdc-bfd32b3da6f4"
      },
      "source": [
        "df_cafe[\"Coffees\"].value_counts().sort_index()"
      ],
      "execution_count": 10,
      "outputs": [
        {
          "output_type": "execute_result",
          "data": {
            "text/plain": [
              "3     1\n",
              "4     4\n",
              "5     1\n",
              "6     1\n",
              "8     2\n",
              "10    1\n",
              "11    2\n",
              "13    1\n",
              "14    1\n",
              "16    2\n",
              "18    1\n",
              "20    2\n",
              "21    2\n",
              "22    1\n",
              "23    2\n",
              "24    2\n",
              "25    2\n",
              "26    1\n",
              "27    3\n",
              "28    1\n",
              "29    1\n",
              "30    2\n",
              "31    3\n",
              "32    1\n",
              "33    2\n",
              "34    1\n",
              "35    2\n",
              "41    1\n",
              "48    1\n",
              "Name: Coffees, dtype: int64"
            ]
          },
          "metadata": {
            "tags": []
          },
          "execution_count": 10
        }
      ]
    },
    {
      "cell_type": "code",
      "metadata": {
        "id": "E-Ql2KwwMLoJ"
      },
      "source": [
        "coffee_count = df_cafe[\"Coffees\"].value_counts().sort_index()"
      ],
      "execution_count": 11,
      "outputs": []
    },
    {
      "cell_type": "code",
      "metadata": {
        "colab": {
          "base_uri": "https://localhost:8080/"
        },
        "id": "YtapdeAyMQHF",
        "outputId": "c3253d58-5136-4ff6-9354-9864de662d16"
      },
      "source": [
        "coffee_count.index"
      ],
      "execution_count": 12,
      "outputs": [
        {
          "output_type": "execute_result",
          "data": {
            "text/plain": [
              "Int64Index([ 3,  4,  5,  6,  8, 10, 11, 13, 14, 16, 18, 20, 21, 22, 23, 24, 25,\n",
              "            26, 27, 28, 29, 30, 31, 32, 33, 34, 35, 41, 48],\n",
              "           dtype='int64')"
            ]
          },
          "metadata": {
            "tags": []
          },
          "execution_count": 12
        }
      ]
    },
    {
      "cell_type": "code",
      "metadata": {
        "colab": {
          "base_uri": "https://localhost:8080/",
          "height": 898
        },
        "id": "f07CpxNZMSei",
        "outputId": "afd93d39-4067-418f-ee1e-0e71e1d83907"
      },
      "source": [
        "pd.DataFrame(\r\n",
        "    {\r\n",
        "        \"판매한커피잔수\" : coffee_count.index,\r\n",
        "        \"판매횟수\" : coffee_count.values\r\n",
        "    }\r\n",
        ")"
      ],
      "execution_count": 13,
      "outputs": [
        {
          "output_type": "execute_result",
          "data": {
            "text/html": [
              "<div>\n",
              "<style scoped>\n",
              "    .dataframe tbody tr th:only-of-type {\n",
              "        vertical-align: middle;\n",
              "    }\n",
              "\n",
              "    .dataframe tbody tr th {\n",
              "        vertical-align: top;\n",
              "    }\n",
              "\n",
              "    .dataframe thead th {\n",
              "        text-align: right;\n",
              "    }\n",
              "</style>\n",
              "<table border=\"1\" class=\"dataframe\">\n",
              "  <thead>\n",
              "    <tr style=\"text-align: right;\">\n",
              "      <th></th>\n",
              "      <th>판매한커피잔수</th>\n",
              "      <th>판매횟수</th>\n",
              "    </tr>\n",
              "  </thead>\n",
              "  <tbody>\n",
              "    <tr>\n",
              "      <th>0</th>\n",
              "      <td>3</td>\n",
              "      <td>1</td>\n",
              "    </tr>\n",
              "    <tr>\n",
              "      <th>1</th>\n",
              "      <td>4</td>\n",
              "      <td>4</td>\n",
              "    </tr>\n",
              "    <tr>\n",
              "      <th>2</th>\n",
              "      <td>5</td>\n",
              "      <td>1</td>\n",
              "    </tr>\n",
              "    <tr>\n",
              "      <th>3</th>\n",
              "      <td>6</td>\n",
              "      <td>1</td>\n",
              "    </tr>\n",
              "    <tr>\n",
              "      <th>4</th>\n",
              "      <td>8</td>\n",
              "      <td>2</td>\n",
              "    </tr>\n",
              "    <tr>\n",
              "      <th>5</th>\n",
              "      <td>10</td>\n",
              "      <td>1</td>\n",
              "    </tr>\n",
              "    <tr>\n",
              "      <th>6</th>\n",
              "      <td>11</td>\n",
              "      <td>2</td>\n",
              "    </tr>\n",
              "    <tr>\n",
              "      <th>7</th>\n",
              "      <td>13</td>\n",
              "      <td>1</td>\n",
              "    </tr>\n",
              "    <tr>\n",
              "      <th>8</th>\n",
              "      <td>14</td>\n",
              "      <td>1</td>\n",
              "    </tr>\n",
              "    <tr>\n",
              "      <th>9</th>\n",
              "      <td>16</td>\n",
              "      <td>2</td>\n",
              "    </tr>\n",
              "    <tr>\n",
              "      <th>10</th>\n",
              "      <td>18</td>\n",
              "      <td>1</td>\n",
              "    </tr>\n",
              "    <tr>\n",
              "      <th>11</th>\n",
              "      <td>20</td>\n",
              "      <td>2</td>\n",
              "    </tr>\n",
              "    <tr>\n",
              "      <th>12</th>\n",
              "      <td>21</td>\n",
              "      <td>2</td>\n",
              "    </tr>\n",
              "    <tr>\n",
              "      <th>13</th>\n",
              "      <td>22</td>\n",
              "      <td>1</td>\n",
              "    </tr>\n",
              "    <tr>\n",
              "      <th>14</th>\n",
              "      <td>23</td>\n",
              "      <td>2</td>\n",
              "    </tr>\n",
              "    <tr>\n",
              "      <th>15</th>\n",
              "      <td>24</td>\n",
              "      <td>2</td>\n",
              "    </tr>\n",
              "    <tr>\n",
              "      <th>16</th>\n",
              "      <td>25</td>\n",
              "      <td>2</td>\n",
              "    </tr>\n",
              "    <tr>\n",
              "      <th>17</th>\n",
              "      <td>26</td>\n",
              "      <td>1</td>\n",
              "    </tr>\n",
              "    <tr>\n",
              "      <th>18</th>\n",
              "      <td>27</td>\n",
              "      <td>3</td>\n",
              "    </tr>\n",
              "    <tr>\n",
              "      <th>19</th>\n",
              "      <td>28</td>\n",
              "      <td>1</td>\n",
              "    </tr>\n",
              "    <tr>\n",
              "      <th>20</th>\n",
              "      <td>29</td>\n",
              "      <td>1</td>\n",
              "    </tr>\n",
              "    <tr>\n",
              "      <th>21</th>\n",
              "      <td>30</td>\n",
              "      <td>2</td>\n",
              "    </tr>\n",
              "    <tr>\n",
              "      <th>22</th>\n",
              "      <td>31</td>\n",
              "      <td>3</td>\n",
              "    </tr>\n",
              "    <tr>\n",
              "      <th>23</th>\n",
              "      <td>32</td>\n",
              "      <td>1</td>\n",
              "    </tr>\n",
              "    <tr>\n",
              "      <th>24</th>\n",
              "      <td>33</td>\n",
              "      <td>2</td>\n",
              "    </tr>\n",
              "    <tr>\n",
              "      <th>25</th>\n",
              "      <td>34</td>\n",
              "      <td>1</td>\n",
              "    </tr>\n",
              "    <tr>\n",
              "      <th>26</th>\n",
              "      <td>35</td>\n",
              "      <td>2</td>\n",
              "    </tr>\n",
              "    <tr>\n",
              "      <th>27</th>\n",
              "      <td>41</td>\n",
              "      <td>1</td>\n",
              "    </tr>\n",
              "    <tr>\n",
              "      <th>28</th>\n",
              "      <td>48</td>\n",
              "      <td>1</td>\n",
              "    </tr>\n",
              "  </tbody>\n",
              "</table>\n",
              "</div>"
            ],
            "text/plain": [
              "    판매한커피잔수  판매횟수\n",
              "0         3     1\n",
              "1         4     4\n",
              "2         5     1\n",
              "3         6     1\n",
              "4         8     2\n",
              "5        10     1\n",
              "6        11     2\n",
              "7        13     1\n",
              "8        14     1\n",
              "9        16     2\n",
              "10       18     1\n",
              "11       20     2\n",
              "12       21     2\n",
              "13       22     1\n",
              "14       23     2\n",
              "15       24     2\n",
              "16       25     2\n",
              "17       26     1\n",
              "18       27     3\n",
              "19       28     1\n",
              "20       29     1\n",
              "21       30     2\n",
              "22       31     3\n",
              "23       32     1\n",
              "24       33     2\n",
              "25       34     1\n",
              "26       35     2\n",
              "27       41     1\n",
              "28       48     1"
            ]
          },
          "metadata": {
            "tags": []
          },
          "execution_count": 13
        }
      ]
    },
    {
      "cell_type": "code",
      "metadata": {
        "id": "ZWqHFPWAMjNa"
      },
      "source": [
        "df_coffee_count = pd.DataFrame(\r\n",
        "    {\r\n",
        "        \"판매한커피잔수\" : coffee_count.index,\r\n",
        "        \"판매횟수\" : coffee_count.values\r\n",
        "    }\r\n",
        ")"
      ],
      "execution_count": 14,
      "outputs": []
    },
    {
      "cell_type": "code",
      "metadata": {
        "colab": {
          "base_uri": "https://localhost:8080/"
        },
        "id": "crLSaxXZO8BW",
        "outputId": "74c13396-d12b-4fe7-8dbe-15ce9fcfc6d8"
      },
      "source": [
        "plt.style.available"
      ],
      "execution_count": 15,
      "outputs": [
        {
          "output_type": "execute_result",
          "data": {
            "text/plain": [
              "['Solarize_Light2',\n",
              " '_classic_test_patch',\n",
              " 'bmh',\n",
              " 'classic',\n",
              " 'dark_background',\n",
              " 'fast',\n",
              " 'fivethirtyeight',\n",
              " 'ggplot',\n",
              " 'grayscale',\n",
              " 'seaborn',\n",
              " 'seaborn-bright',\n",
              " 'seaborn-colorblind',\n",
              " 'seaborn-dark',\n",
              " 'seaborn-dark-palette',\n",
              " 'seaborn-darkgrid',\n",
              " 'seaborn-deep',\n",
              " 'seaborn-muted',\n",
              " 'seaborn-notebook',\n",
              " 'seaborn-paper',\n",
              " 'seaborn-pastel',\n",
              " 'seaborn-poster',\n",
              " 'seaborn-talk',\n",
              " 'seaborn-ticks',\n",
              " 'seaborn-white',\n",
              " 'seaborn-whitegrid',\n",
              " 'tableau-colorblind10']"
            ]
          },
          "metadata": {
            "tags": []
          },
          "execution_count": 15
        }
      ]
    },
    {
      "cell_type": "code",
      "metadata": {
        "id": "lEECmxiIO_hX"
      },
      "source": [
        "plt.style.use(\"fivethirtyeight\")"
      ],
      "execution_count": 16,
      "outputs": []
    },
    {
      "cell_type": "code",
      "metadata": {
        "id": "uJTLGRJWP_S2"
      },
      "source": [
        "import seaborn as sns"
      ],
      "execution_count": 17,
      "outputs": []
    },
    {
      "cell_type": "code",
      "metadata": {
        "colab": {
          "base_uri": "https://localhost:8080/",
          "height": 323
        },
        "id": "PwEEOvS-QAq1",
        "outputId": "8175f314-3618-45e8-8df3-7faa931a0b0d"
      },
      "source": [
        "sns.barplot( data=df_coffee_count, x =\"판매한커피잔수\", y=\"판매횟수\")"
      ],
      "execution_count": 18,
      "outputs": [
        {
          "output_type": "execute_result",
          "data": {
            "text/plain": [
              "<matplotlib.axes._subplots.AxesSubplot at 0x7f3b096aae10>"
            ]
          },
          "metadata": {
            "tags": []
          },
          "execution_count": 18
        },
        {
          "output_type": "display_data",
          "data": {
            "image/png": "[encoded data removed]",
            "text/plain": [
              "<Figure size 432x288 with 1 Axes>"
            ]
          },
          "metadata": {
            "tags": [],
            "image/png": {
              "width": 426,
              "height": 288
            }
          }
        }
      ]
    },
    {
      "cell_type": "code",
      "metadata": {
        "colab": {
          "base_uri": "https://localhost:8080/",
          "height": 673
        },
        "id": "cURtA63HQHQq",
        "outputId": "41f8cd9b-3f10-4718-ae1e-551c233cd22f"
      },
      "source": [
        "plt.figure(figsize=(15,10))\r\n",
        "sns.barplot( data=df_coffee_count, x =\"판매한커피잔수\", y=\"판매횟수\")"
      ],
      "execution_count": 19,
      "outputs": [
        {
          "output_type": "execute_result",
          "data": {
            "text/plain": [
              "<matplotlib.axes._subplots.AxesSubplot at 0x7f3b094f7a58>"
            ]
          },
          "metadata": {
            "tags": []
          },
          "execution_count": 19
        },
        {
          "output_type": "display_data",
          "data": {
            "image/png": "[encoded data removed]",
            "text/plain": [
              "<Figure size 1080x720 with 1 Axes>"
            ]
          },
          "metadata": {
            "tags": [],
            "image/png": {
              "width": 1000,
              "height": 638
            }
          }
        }
      ]
    },
    {
      "cell_type": "code",
      "metadata": {
        "colab": {
          "base_uri": "https://localhost:8080/"
        },
        "id": "v1rpV91-QPUJ",
        "outputId": "93923320-8543-4c9a-e1ab-c85681b7a106"
      },
      "source": [
        "df_cafe[\"Coffees\"].min()"
      ],
      "execution_count": 20,
      "outputs": [
        {
          "output_type": "execute_result",
          "data": {
            "text/plain": [
              "3"
            ]
          },
          "metadata": {
            "tags": []
          },
          "execution_count": 20
        }
      ]
    },
    {
      "cell_type": "code",
      "metadata": {
        "colab": {
          "base_uri": "https://localhost:8080/"
        },
        "id": "v0KzcYWjSE8p",
        "outputId": "d46bb293-a750-441f-d865-ff66113f236b"
      },
      "source": [
        "df_cafe[\"Coffees\"].max()"
      ],
      "execution_count": 21,
      "outputs": [
        {
          "output_type": "execute_result",
          "data": {
            "text/plain": [
              "48"
            ]
          },
          "metadata": {
            "tags": []
          },
          "execution_count": 21
        }
      ]
    },
    {
      "cell_type": "code",
      "metadata": {
        "colab": {
          "base_uri": "https://localhost:8080/"
        },
        "id": "lyYFn2GNSI1-",
        "outputId": "2de010ec-06e7-4d26-df7e-74aa97fa016e"
      },
      "source": [
        "pip install -U stemgraphic"
      ],
      "execution_count": 22,
      "outputs": [
        {
          "output_type": "stream",
          "text": [
            "Collecting stemgraphic\n",
            "\u001b[?25l  Downloading https://files.pythonhosted.org/packages/88/73/f1c363cbb09a24cea12e8e47ded18cd380eae77a62268aa478067074fcc1/stemgraphic-0.9.0.tar.gz (61kB)\n",
            "\r\u001b[K     |█████▍                          | 10kB 17.5MB/s eta 0:00:01\r\u001b[K     |██████████▊                     | 20kB 18.5MB/s eta 0:00:01\r\u001b[K     |████████████████▏               | 30kB 15.8MB/s eta 0:00:01\r\u001b[K     |█████████████████████▌          | 40kB 14.6MB/s eta 0:00:01\r\u001b[K     |██████████████████████████▉     | 51kB 14.2MB/s eta 0:00:01\r\u001b[K     |████████████████████████████████| 61kB 3.6MB/s \n",
            "\u001b[?25hRequirement already satisfied, skipping upgrade: docopt in /usr/local/lib/python3.6/dist-packages (from stemgraphic) (0.6.2)\n",
            "Requirement already satisfied, skipping upgrade: matplotlib in /usr/local/lib/python3.6/dist-packages (from stemgraphic) (3.2.2)\n",
            "Requirement already satisfied, skipping upgrade: pandas in /usr/local/lib/python3.6/dist-packages (from stemgraphic) (1.1.5)\n",
            "Requirement already satisfied, skipping upgrade: seaborn in /usr/local/lib/python3.6/dist-packages (from stemgraphic) (0.11.1)\n",
            "Requirement already satisfied, skipping upgrade: python-dateutil>=2.1 in /usr/local/lib/python3.6/dist-packages (from matplotlib->stemgraphic) (2.8.1)\n",
            "Requirement already satisfied, skipping upgrade: pyparsing!=2.0.4,!=2.1.2,!=2.1.6,>=2.0.1 in /usr/local/lib/python3.6/dist-packages (from matplotlib->stemgraphic) (2.4.7)\n",
            "Requirement already satisfied, skipping upgrade: numpy>=1.11 in /usr/local/lib/python3.6/dist-packages (from matplotlib->stemgraphic) (1.19.5)\n",
            "Requirement already satisfied, skipping upgrade: kiwisolver>=1.0.1 in /usr/local/lib/python3.6/dist-packages (from matplotlib->stemgraphic) (1.3.1)\n",
            "Requirement already satisfied, skipping upgrade: cycler>=0.10 in /usr/local/lib/python3.6/dist-packages (from matplotlib->stemgraphic) (0.10.0)\n",
            "Requirement already satisfied, skipping upgrade: pytz>=2017.2 in /usr/local/lib/python3.6/dist-packages (from pandas->stemgraphic) (2018.9)\n",
            "Requirement already satisfied, skipping upgrade: scipy>=1.0 in /usr/local/lib/python3.6/dist-packages (from seaborn->stemgraphic) (1.4.1)\n",
            "Requirement already satisfied, skipping upgrade: six>=1.5 in /usr/local/lib/python3.6/dist-packages (from python-dateutil>=2.1->matplotlib->stemgraphic) (1.15.0)\n",
            "Building wheels for collected packages: stemgraphic\n",
            "  Building wheel for stemgraphic (setup.py) ... \u001b[?25l\u001b[?25hdone\n",
            "  Created wheel for stemgraphic: filename=stemgraphic-0.9.0-cp36-none-any.whl size=60657 sha256=05b4d59e93720eb275a674788f05485adcd48c75f778a3b5e6bdaf8d1ef69403\n",
            "  Stored in directory: /root/.cache/pip/wheels/a3/d5/2f/202796078c15874d70a86d413281851cd921dcac1787372fb2\n",
            "Successfully built stemgraphic\n",
            "Installing collected packages: stemgraphic\n",
            "Successfully installed stemgraphic-0.9.0\n"
          ],
          "name": "stdout"
        }
      ]
    },
    {
      "cell_type": "code",
      "metadata": {
        "id": "zL5rEOJZSQxo"
      },
      "source": [
        "from scipy.stats import mode"
      ],
      "execution_count": 24,
      "outputs": []
    },
    {
      "cell_type": "code",
      "metadata": {
        "colab": {
          "base_uri": "https://localhost:8080/"
        },
        "id": "GN9zY2h-SYWl",
        "outputId": "67cf1526-38a3-48fb-f10a-37280fb965b9"
      },
      "source": [
        "mode(df_cafe[\"Coffees\"])"
      ],
      "execution_count": 25,
      "outputs": [
        {
          "output_type": "execute_result",
          "data": {
            "text/plain": [
              "ModeResult(mode=array([4]), count=array([4]))"
            ]
          },
          "metadata": {
            "tags": []
          },
          "execution_count": 25
        }
      ]
    },
    {
      "cell_type": "code",
      "metadata": {
        "colab": {
          "base_uri": "https://localhost:8080/"
        },
        "id": "0xhRm-6MSeSr",
        "outputId": "06776ce1-1752-4f4e-d352-03d31c7ee18b"
      },
      "source": [
        "df_cafe[\"Coffees\"].mean()"
      ],
      "execution_count": 26,
      "outputs": [
        {
          "output_type": "execute_result",
          "data": {
            "text/plain": [
              "21.51063829787234"
            ]
          },
          "metadata": {
            "tags": []
          },
          "execution_count": 26
        }
      ]
    },
    {
      "cell_type": "code",
      "metadata": {
        "colab": {
          "base_uri": "https://localhost:8080/"
        },
        "id": "YNmnbSzQWk7B",
        "outputId": "01ab5388-3eb5-4291-b091-0cdc61cbd1d8"
      },
      "source": [
        "df_cafe[\"Coffees\"].median()"
      ],
      "execution_count": 28,
      "outputs": [
        {
          "output_type": "execute_result",
          "data": {
            "text/plain": [
              "23.0"
            ]
          },
          "metadata": {
            "tags": []
          },
          "execution_count": 28
        }
      ]
    },
    {
      "cell_type": "code",
      "metadata": {
        "id": "LQNB63sSWosL"
      },
      "source": [
        "df_cafe.iat[21,17]=480"
      ],
      "execution_count": 29,
      "outputs": []
    },
    {
      "cell_type": "code",
      "metadata": {
        "colab": {
          "base_uri": "https://localhost:8080/"
        },
        "id": "AguxY6G6W8Tp",
        "outputId": "5b7a99ea-9eb3-4730-90c1-bbf581b287eb"
      },
      "source": [
        "df_cafe[\"Coffees\"].mean()"
      ],
      "execution_count": 30,
      "outputs": [
        {
          "output_type": "execute_result",
          "data": {
            "text/plain": [
              "30.70212765957447"
            ]
          },
          "metadata": {
            "tags": []
          },
          "execution_count": 30
        }
      ]
    },
    {
      "cell_type": "code",
      "metadata": {
        "colab": {
          "base_uri": "https://localhost:8080/"
        },
        "id": "gI6USCT4XDK1",
        "outputId": "50e3c953-54b4-424c-f712-22c3d5459f2f"
      },
      "source": [
        "df_cafe[\"Coffees\"].median()"
      ],
      "execution_count": 31,
      "outputs": [
        {
          "output_type": "execute_result",
          "data": {
            "text/plain": [
              "23.0"
            ]
          },
          "metadata": {
            "tags": []
          },
          "execution_count": 31
        }
      ]
    },
    {
      "cell_type": "code",
      "metadata": {
        "colab": {
          "base_uri": "https://localhost:8080/"
        },
        "id": "myMMwVAiXELL",
        "outputId": "0f8bf865-8413-42d3-a740-e73581cf6791"
      },
      "source": [
        "pip install -U finance-datareader"
      ],
      "execution_count": 32,
      "outputs": [
        {
          "output_type": "stream",
          "text": [
            "Collecting finance-datareader\n",
            "  Downloading https://files.pythonhosted.org/packages/ed/b5/bab9072610a2721b37b07cbf9e01aa761c8da1fd82c43016f3ff14fd0d62/finance_datareader-0.9.20-py3-none-any.whl\n",
            "Requirement already satisfied, skipping upgrade: tqdm in /usr/local/lib/python3.6/dist-packages (from finance-datareader) (4.41.1)\n",
            "Requirement already satisfied, skipping upgrade: pandas>=0.19.2 in /usr/local/lib/python3.6/dist-packages (from finance-datareader) (1.1.5)\n",
            "Requirement already satisfied, skipping upgrade: lxml in /usr/local/lib/python3.6/dist-packages (from finance-datareader) (4.2.6)\n",
            "Requirement already satisfied, skipping upgrade: requests>=2.3.0 in /usr/local/lib/python3.6/dist-packages (from finance-datareader) (2.23.0)\n",
            "Collecting requests-file\n",
            "  Downloading https://files.pythonhosted.org/packages/77/86/cdb5e8eaed90796aa83a6d9f75cfbd37af553c47a291cd47bc410ef9bdb2/requests_file-1.5.1-py2.py3-none-any.whl\n",
            "Requirement already satisfied, skipping upgrade: pytz>=2017.2 in /usr/local/lib/python3.6/dist-packages (from pandas>=0.19.2->finance-datareader) (2018.9)\n",
            "Requirement already satisfied, skipping upgrade: numpy>=1.15.4 in /usr/local/lib/python3.6/dist-packages (from pandas>=0.19.2->finance-datareader) (1.19.5)\n",
            "Requirement already satisfied, skipping upgrade: python-dateutil>=2.7.3 in /usr/local/lib/python3.6/dist-packages (from pandas>=0.19.2->finance-datareader) (2.8.1)\n",
            "Requirement already satisfied, skipping upgrade: idna<3,>=2.5 in /usr/local/lib/python3.6/dist-packages (from requests>=2.3.0->finance-datareader) (2.10)\n",
            "Requirement already satisfied, skipping upgrade: chardet<4,>=3.0.2 in /usr/local/lib/python3.6/dist-packages (from requests>=2.3.0->finance-datareader) (3.0.4)\n",
            "Requirement already satisfied, skipping upgrade: urllib3!=1.25.0,!=1.25.1,<1.26,>=1.21.1 in /usr/local/lib/python3.6/dist-packages (from requests>=2.3.0->finance-datareader) (1.24.3)\n",
            "Requirement already satisfied, skipping upgrade: certifi>=2017.4.17 in /usr/local/lib/python3.6/dist-packages (from requests>=2.3.0->finance-datareader) (2020.12.5)\n",
            "Requirement already satisfied, skipping upgrade: six in /usr/local/lib/python3.6/dist-packages (from requests-file->finance-datareader) (1.15.0)\n",
            "Installing collected packages: requests-file, finance-datareader\n",
            "Successfully installed finance-datareader-0.9.20 requests-file-1.5.1\n"
          ],
          "name": "stdout"
        }
      ]
    },
    {
      "cell_type": "code",
      "metadata": {
        "id": "7QYoqRjCXcMO"
      },
      "source": [
        "import FinanceDataReader as fdr"
      ],
      "execution_count": 34,
      "outputs": []
    },
    {
      "cell_type": "code",
      "metadata": {
        "id": "Cg2J0y2lXPZ5"
      },
      "source": [
        "삼성전자 = fdr.DataReader('005930', '2015-01-01', '2021-01-31')"
      ],
      "execution_count": 35,
      "outputs": []
    },
    {
      "cell_type": "code",
      "metadata": {
        "colab": {
          "base_uri": "https://localhost:8080/",
          "height": 450
        },
        "id": "wy2YEc3mXZnx",
        "outputId": "9287cec5-c982-4c98-be59-c04d585b218c"
      },
      "source": [
        "삼성전자"
      ],
      "execution_count": 36,
      "outputs": [
        {
          "output_type": "execute_result",
          "data": {
            "text/html": [
              "<div>\n",
              "<style scoped>\n",
              "    .dataframe tbody tr th:only-of-type {\n",
              "        vertical-align: middle;\n",
              "    }\n",
              "\n",
              "    .dataframe tbody tr th {\n",
              "        vertical-align: top;\n",
              "    }\n",
              "\n",
              "    .dataframe thead th {\n",
              "        text-align: right;\n",
              "    }\n",
              "</style>\n",
              "<table border=\"1\" class=\"dataframe\">\n",
              "  <thead>\n",
              "    <tr style=\"text-align: right;\">\n",
              "      <th></th>\n",
              "      <th>Open</th>\n",
              "      <th>High</th>\n",
              "      <th>Low</th>\n",
              "      <th>Close</th>\n",
              "      <th>Volume</th>\n",
              "      <th>Change</th>\n",
              "    </tr>\n",
              "    <tr>\n",
              "      <th>Date</th>\n",
              "      <th></th>\n",
              "      <th></th>\n",
              "      <th></th>\n",
              "      <th></th>\n",
              "      <th></th>\n",
              "      <th></th>\n",
              "    </tr>\n",
              "  </thead>\n",
              "  <tbody>\n",
              "    <tr>\n",
              "      <th>2015-01-02</th>\n",
              "      <td>26799</td>\n",
              "      <td>26799</td>\n",
              "      <td>26540</td>\n",
              "      <td>26600</td>\n",
              "      <td>175499</td>\n",
              "      <td>0.002261</td>\n",
              "    </tr>\n",
              "    <tr>\n",
              "      <th>2015-01-05</th>\n",
              "      <td>26720</td>\n",
              "      <td>26720</td>\n",
              "      <td>26260</td>\n",
              "      <td>26660</td>\n",
              "      <td>202790</td>\n",
              "      <td>0.002256</td>\n",
              "    </tr>\n",
              "    <tr>\n",
              "      <th>2015-01-06</th>\n",
              "      <td>26300</td>\n",
              "      <td>26340</td>\n",
              "      <td>25760</td>\n",
              "      <td>25900</td>\n",
              "      <td>304710</td>\n",
              "      <td>-0.028507</td>\n",
              "    </tr>\n",
              "    <tr>\n",
              "      <th>2015-01-07</th>\n",
              "      <td>25880</td>\n",
              "      <td>26220</td>\n",
              "      <td>25640</td>\n",
              "      <td>26140</td>\n",
              "      <td>286455</td>\n",
              "      <td>0.009266</td>\n",
              "    </tr>\n",
              "    <tr>\n",
              "      <th>2015-01-08</th>\n",
              "      <td>26780</td>\n",
              "      <td>26780</td>\n",
              "      <td>26199</td>\n",
              "      <td>26280</td>\n",
              "      <td>289552</td>\n",
              "      <td>0.005356</td>\n",
              "    </tr>\n",
              "    <tr>\n",
              "      <th>...</th>\n",
              "      <td>...</td>\n",
              "      <td>...</td>\n",
              "      <td>...</td>\n",
              "      <td>...</td>\n",
              "      <td>...</td>\n",
              "      <td>...</td>\n",
              "    </tr>\n",
              "    <tr>\n",
              "      <th>2021-01-25</th>\n",
              "      <td>87000</td>\n",
              "      <td>89900</td>\n",
              "      <td>86300</td>\n",
              "      <td>89400</td>\n",
              "      <td>27258534</td>\n",
              "      <td>0.029954</td>\n",
              "    </tr>\n",
              "    <tr>\n",
              "      <th>2021-01-26</th>\n",
              "      <td>88800</td>\n",
              "      <td>89200</td>\n",
              "      <td>86500</td>\n",
              "      <td>86700</td>\n",
              "      <td>33178936</td>\n",
              "      <td>-0.030201</td>\n",
              "    </tr>\n",
              "    <tr>\n",
              "      <th>2021-01-27</th>\n",
              "      <td>86600</td>\n",
              "      <td>87700</td>\n",
              "      <td>85600</td>\n",
              "      <td>85600</td>\n",
              "      <td>26423070</td>\n",
              "      <td>-0.012687</td>\n",
              "    </tr>\n",
              "    <tr>\n",
              "      <th>2021-01-28</th>\n",
              "      <td>83200</td>\n",
              "      <td>85600</td>\n",
              "      <td>83200</td>\n",
              "      <td>83700</td>\n",
              "      <td>31859808</td>\n",
              "      <td>-0.022196</td>\n",
              "    </tr>\n",
              "    <tr>\n",
              "      <th>2021-01-29</th>\n",
              "      <td>84500</td>\n",
              "      <td>85000</td>\n",
              "      <td>82000</td>\n",
              "      <td>82000</td>\n",
              "      <td>39615978</td>\n",
              "      <td>-0.020311</td>\n",
              "    </tr>\n",
              "  </tbody>\n",
              "</table>\n",
              "<p>1495 rows × 6 columns</p>\n",
              "</div>"
            ],
            "text/plain": [
              "             Open   High    Low  Close    Volume    Change\n",
              "Date                                                      \n",
              "2015-01-02  26799  26799  26540  26600    175499  0.002261\n",
              "2015-01-05  26720  26720  26260  26660    202790  0.002256\n",
              "2015-01-06  26300  26340  25760  25900    304710 -0.028507\n",
              "2015-01-07  25880  26220  25640  26140    286455  0.009266\n",
              "2015-01-08  26780  26780  26199  26280    289552  0.005356\n",
              "...           ...    ...    ...    ...       ...       ...\n",
              "2021-01-25  87000  89900  86300  89400  27258534  0.029954\n",
              "2021-01-26  88800  89200  86500  86700  33178936 -0.030201\n",
              "2021-01-27  86600  87700  85600  85600  26423070 -0.012687\n",
              "2021-01-28  83200  85600  83200  83700  31859808 -0.022196\n",
              "2021-01-29  84500  85000  82000  82000  39615978 -0.020311\n",
              "\n",
              "[1495 rows x 6 columns]"
            ]
          },
          "metadata": {
            "tags": []
          },
          "execution_count": 36
        }
      ]
    },
    {
      "cell_type": "code",
      "metadata": {
        "colab": {
          "base_uri": "https://localhost:8080/",
          "height": 450
        },
        "id": "Pq5uA9GfXhkR",
        "outputId": "25e47557-d56f-47be-89cb-4519b6b6c842"
      },
      "source": [
        "삼성전자[['Close']]"
      ],
      "execution_count": 40,
      "outputs": [
        {
          "output_type": "execute_result",
          "data": {
            "text/html": [
              "<div>\n",
              "<style scoped>\n",
              "    .dataframe tbody tr th:only-of-type {\n",
              "        vertical-align: middle;\n",
              "    }\n",
              "\n",
              "    .dataframe tbody tr th {\n",
              "        vertical-align: top;\n",
              "    }\n",
              "\n",
              "    .dataframe thead th {\n",
              "        text-align: right;\n",
              "    }\n",
              "</style>\n",
              "<table border=\"1\" class=\"dataframe\">\n",
              "  <thead>\n",
              "    <tr style=\"text-align: right;\">\n",
              "      <th></th>\n",
              "      <th>Close</th>\n",
              "    </tr>\n",
              "    <tr>\n",
              "      <th>Date</th>\n",
              "      <th></th>\n",
              "    </tr>\n",
              "  </thead>\n",
              "  <tbody>\n",
              "    <tr>\n",
              "      <th>2015-01-02</th>\n",
              "      <td>26600</td>\n",
              "    </tr>\n",
              "    <tr>\n",
              "      <th>2015-01-05</th>\n",
              "      <td>26660</td>\n",
              "    </tr>\n",
              "    <tr>\n",
              "      <th>2015-01-06</th>\n",
              "      <td>25900</td>\n",
              "    </tr>\n",
              "    <tr>\n",
              "      <th>2015-01-07</th>\n",
              "      <td>26140</td>\n",
              "    </tr>\n",
              "    <tr>\n",
              "      <th>2015-01-08</th>\n",
              "      <td>26280</td>\n",
              "    </tr>\n",
              "    <tr>\n",
              "      <th>...</th>\n",
              "      <td>...</td>\n",
              "    </tr>\n",
              "    <tr>\n",
              "      <th>2021-01-25</th>\n",
              "      <td>89400</td>\n",
              "    </tr>\n",
              "    <tr>\n",
              "      <th>2021-01-26</th>\n",
              "      <td>86700</td>\n",
              "    </tr>\n",
              "    <tr>\n",
              "      <th>2021-01-27</th>\n",
              "      <td>85600</td>\n",
              "    </tr>\n",
              "    <tr>\n",
              "      <th>2021-01-28</th>\n",
              "      <td>83700</td>\n",
              "    </tr>\n",
              "    <tr>\n",
              "      <th>2021-01-29</th>\n",
              "      <td>82000</td>\n",
              "    </tr>\n",
              "  </tbody>\n",
              "</table>\n",
              "<p>1495 rows × 1 columns</p>\n",
              "</div>"
            ],
            "text/plain": [
              "            Close\n",
              "Date             \n",
              "2015-01-02  26600\n",
              "2015-01-05  26660\n",
              "2015-01-06  25900\n",
              "2015-01-07  26140\n",
              "2015-01-08  26280\n",
              "...           ...\n",
              "2021-01-25  89400\n",
              "2021-01-26  86700\n",
              "2021-01-27  85600\n",
              "2021-01-28  83700\n",
              "2021-01-29  82000\n",
              "\n",
              "[1495 rows x 1 columns]"
            ]
          },
          "metadata": {
            "tags": []
          },
          "execution_count": 40
        }
      ]
    },
    {
      "cell_type": "code",
      "metadata": {
        "colab": {
          "base_uri": "https://localhost:8080/",
          "height": 450
        },
        "id": "c5FhvpmIXk1r",
        "outputId": "f2e8bbfa-0ceb-4120-ed01-57c8e9fd6bbe"
      },
      "source": [
        "삼성전자[['Close']].shift(periods=1)"
      ],
      "execution_count": 41,
      "outputs": [
        {
          "output_type": "execute_result",
          "data": {
            "text/html": [
              "<div>\n",
              "<style scoped>\n",
              "    .dataframe tbody tr th:only-of-type {\n",
              "        vertical-align: middle;\n",
              "    }\n",
              "\n",
              "    .dataframe tbody tr th {\n",
              "        vertical-align: top;\n",
              "    }\n",
              "\n",
              "    .dataframe thead th {\n",
              "        text-align: right;\n",
              "    }\n",
              "</style>\n",
              "<table border=\"1\" class=\"dataframe\">\n",
              "  <thead>\n",
              "    <tr style=\"text-align: right;\">\n",
              "      <th></th>\n",
              "      <th>Close</th>\n",
              "    </tr>\n",
              "    <tr>\n",
              "      <th>Date</th>\n",
              "      <th></th>\n",
              "    </tr>\n",
              "  </thead>\n",
              "  <tbody>\n",
              "    <tr>\n",
              "      <th>2015-01-02</th>\n",
              "      <td>NaN</td>\n",
              "    </tr>\n",
              "    <tr>\n",
              "      <th>2015-01-05</th>\n",
              "      <td>26600.0</td>\n",
              "    </tr>\n",
              "    <tr>\n",
              "      <th>2015-01-06</th>\n",
              "      <td>26660.0</td>\n",
              "    </tr>\n",
              "    <tr>\n",
              "      <th>2015-01-07</th>\n",
              "      <td>25900.0</td>\n",
              "    </tr>\n",
              "    <tr>\n",
              "      <th>2015-01-08</th>\n",
              "      <td>26140.0</td>\n",
              "    </tr>\n",
              "    <tr>\n",
              "      <th>...</th>\n",
              "      <td>...</td>\n",
              "    </tr>\n",
              "    <tr>\n",
              "      <th>2021-01-25</th>\n",
              "      <td>86800.0</td>\n",
              "    </tr>\n",
              "    <tr>\n",
              "      <th>2021-01-26</th>\n",
              "      <td>89400.0</td>\n",
              "    </tr>\n",
              "    <tr>\n",
              "      <th>2021-01-27</th>\n",
              "      <td>86700.0</td>\n",
              "    </tr>\n",
              "    <tr>\n",
              "      <th>2021-01-28</th>\n",
              "      <td>85600.0</td>\n",
              "    </tr>\n",
              "    <tr>\n",
              "      <th>2021-01-29</th>\n",
              "      <td>83700.0</td>\n",
              "    </tr>\n",
              "  </tbody>\n",
              "</table>\n",
              "<p>1495 rows × 1 columns</p>\n",
              "</div>"
            ],
            "text/plain": [
              "              Close\n",
              "Date               \n",
              "2015-01-02      NaN\n",
              "2015-01-05  26600.0\n",
              "2015-01-06  26660.0\n",
              "2015-01-07  25900.0\n",
              "2015-01-08  26140.0\n",
              "...             ...\n",
              "2021-01-25  86800.0\n",
              "2021-01-26  89400.0\n",
              "2021-01-27  86700.0\n",
              "2021-01-28  85600.0\n",
              "2021-01-29  83700.0\n",
              "\n",
              "[1495 rows x 1 columns]"
            ]
          },
          "metadata": {
            "tags": []
          },
          "execution_count": 41
        }
      ]
    },
    {
      "cell_type": "code",
      "metadata": {
        "id": "lqvrM3YsX3WN"
      },
      "source": [
        "수익 = 삼성전자[[\"Close\"]] - 삼성전자[[\"Close\"]].shift(periods=1)\r\n",
        "수익.dropna(inplace=True)"
      ],
      "execution_count": 45,
      "outputs": []
    },
    {
      "cell_type": "code",
      "metadata": {
        "colab": {
          "base_uri": "https://localhost:8080/",
          "height": 450
        },
        "id": "5Vu0ZWiIYCuZ",
        "outputId": "d7e609ee-723d-4fed-bb61-3519a6618537"
      },
      "source": [
        "수익"
      ],
      "execution_count": 46,
      "outputs": [
        {
          "output_type": "execute_result",
          "data": {
            "text/html": [
              "<div>\n",
              "<style scoped>\n",
              "    .dataframe tbody tr th:only-of-type {\n",
              "        vertical-align: middle;\n",
              "    }\n",
              "\n",
              "    .dataframe tbody tr th {\n",
              "        vertical-align: top;\n",
              "    }\n",
              "\n",
              "    .dataframe thead th {\n",
              "        text-align: right;\n",
              "    }\n",
              "</style>\n",
              "<table border=\"1\" class=\"dataframe\">\n",
              "  <thead>\n",
              "    <tr style=\"text-align: right;\">\n",
              "      <th></th>\n",
              "      <th>Close</th>\n",
              "    </tr>\n",
              "    <tr>\n",
              "      <th>Date</th>\n",
              "      <th></th>\n",
              "    </tr>\n",
              "  </thead>\n",
              "  <tbody>\n",
              "    <tr>\n",
              "      <th>2015-01-05</th>\n",
              "      <td>60.0</td>\n",
              "    </tr>\n",
              "    <tr>\n",
              "      <th>2015-01-06</th>\n",
              "      <td>-760.0</td>\n",
              "    </tr>\n",
              "    <tr>\n",
              "      <th>2015-01-07</th>\n",
              "      <td>240.0</td>\n",
              "    </tr>\n",
              "    <tr>\n",
              "      <th>2015-01-08</th>\n",
              "      <td>140.0</td>\n",
              "    </tr>\n",
              "    <tr>\n",
              "      <th>2015-01-09</th>\n",
              "      <td>0.0</td>\n",
              "    </tr>\n",
              "    <tr>\n",
              "      <th>...</th>\n",
              "      <td>...</td>\n",
              "    </tr>\n",
              "    <tr>\n",
              "      <th>2021-01-25</th>\n",
              "      <td>2600.0</td>\n",
              "    </tr>\n",
              "    <tr>\n",
              "      <th>2021-01-26</th>\n",
              "      <td>-2700.0</td>\n",
              "    </tr>\n",
              "    <tr>\n",
              "      <th>2021-01-27</th>\n",
              "      <td>-1100.0</td>\n",
              "    </tr>\n",
              "    <tr>\n",
              "      <th>2021-01-28</th>\n",
              "      <td>-1900.0</td>\n",
              "    </tr>\n",
              "    <tr>\n",
              "      <th>2021-01-29</th>\n",
              "      <td>-1700.0</td>\n",
              "    </tr>\n",
              "  </tbody>\n",
              "</table>\n",
              "<p>1494 rows × 1 columns</p>\n",
              "</div>"
            ],
            "text/plain": [
              "             Close\n",
              "Date              \n",
              "2015-01-05    60.0\n",
              "2015-01-06  -760.0\n",
              "2015-01-07   240.0\n",
              "2015-01-08   140.0\n",
              "2015-01-09     0.0\n",
              "...            ...\n",
              "2021-01-25  2600.0\n",
              "2021-01-26 -2700.0\n",
              "2021-01-27 -1100.0\n",
              "2021-01-28 -1900.0\n",
              "2021-01-29 -1700.0\n",
              "\n",
              "[1494 rows x 1 columns]"
            ]
          },
          "metadata": {
            "tags": []
          },
          "execution_count": 46
        }
      ]
    },
    {
      "cell_type": "code",
      "metadata": {
        "id": "Y4UkXRavYpTZ"
      },
      "source": [
        "수익[\"년\"] = 수익.index.year"
      ],
      "execution_count": 47,
      "outputs": []
    },
    {
      "cell_type": "code",
      "metadata": {
        "colab": {
          "base_uri": "https://localhost:8080/",
          "height": 450
        },
        "id": "cKEVwAX7YteM",
        "outputId": "035ba337-bd52-4ad5-a9af-38f248142eac"
      },
      "source": [
        "수익"
      ],
      "execution_count": 48,
      "outputs": [
        {
          "output_type": "execute_result",
          "data": {
            "text/html": [
              "<div>\n",
              "<style scoped>\n",
              "    .dataframe tbody tr th:only-of-type {\n",
              "        vertical-align: middle;\n",
              "    }\n",
              "\n",
              "    .dataframe tbody tr th {\n",
              "        vertical-align: top;\n",
              "    }\n",
              "\n",
              "    .dataframe thead th {\n",
              "        text-align: right;\n",
              "    }\n",
              "</style>\n",
              "<table border=\"1\" class=\"dataframe\">\n",
              "  <thead>\n",
              "    <tr style=\"text-align: right;\">\n",
              "      <th></th>\n",
              "      <th>Close</th>\n",
              "      <th>년</th>\n",
              "    </tr>\n",
              "    <tr>\n",
              "      <th>Date</th>\n",
              "      <th></th>\n",
              "      <th></th>\n",
              "    </tr>\n",
              "  </thead>\n",
              "  <tbody>\n",
              "    <tr>\n",
              "      <th>2015-01-05</th>\n",
              "      <td>60.0</td>\n",
              "      <td>2015</td>\n",
              "    </tr>\n",
              "    <tr>\n",
              "      <th>2015-01-06</th>\n",
              "      <td>-760.0</td>\n",
              "      <td>2015</td>\n",
              "    </tr>\n",
              "    <tr>\n",
              "      <th>2015-01-07</th>\n",
              "      <td>240.0</td>\n",
              "      <td>2015</td>\n",
              "    </tr>\n",
              "    <tr>\n",
              "      <th>2015-01-08</th>\n",
              "      <td>140.0</td>\n",
              "      <td>2015</td>\n",
              "    </tr>\n",
              "    <tr>\n",
              "      <th>2015-01-09</th>\n",
              "      <td>0.0</td>\n",
              "      <td>2015</td>\n",
              "    </tr>\n",
              "    <tr>\n",
              "      <th>...</th>\n",
              "      <td>...</td>\n",
              "      <td>...</td>\n",
              "    </tr>\n",
              "    <tr>\n",
              "      <th>2021-01-25</th>\n",
              "      <td>2600.0</td>\n",
              "      <td>2021</td>\n",
              "    </tr>\n",
              "    <tr>\n",
              "      <th>2021-01-26</th>\n",
              "      <td>-2700.0</td>\n",
              "      <td>2021</td>\n",
              "    </tr>\n",
              "    <tr>\n",
              "      <th>2021-01-27</th>\n",
              "      <td>-1100.0</td>\n",
              "      <td>2021</td>\n",
              "    </tr>\n",
              "    <tr>\n",
              "      <th>2021-01-28</th>\n",
              "      <td>-1900.0</td>\n",
              "      <td>2021</td>\n",
              "    </tr>\n",
              "    <tr>\n",
              "      <th>2021-01-29</th>\n",
              "      <td>-1700.0</td>\n",
              "      <td>2021</td>\n",
              "    </tr>\n",
              "  </tbody>\n",
              "</table>\n",
              "<p>1494 rows × 2 columns</p>\n",
              "</div>"
            ],
            "text/plain": [
              "             Close     년\n",
              "Date                    \n",
              "2015-01-05    60.0  2015\n",
              "2015-01-06  -760.0  2015\n",
              "2015-01-07   240.0  2015\n",
              "2015-01-08   140.0  2015\n",
              "2015-01-09     0.0  2015\n",
              "...            ...   ...\n",
              "2021-01-25  2600.0  2021\n",
              "2021-01-26 -2700.0  2021\n",
              "2021-01-27 -1100.0  2021\n",
              "2021-01-28 -1900.0  2021\n",
              "2021-01-29 -1700.0  2021\n",
              "\n",
              "[1494 rows x 2 columns]"
            ]
          },
          "metadata": {
            "tags": []
          },
          "execution_count": 48
        }
      ]
    },
    {
      "cell_type": "code",
      "metadata": {
        "id": "jJeBTQyWYugg"
      },
      "source": [
        "수익['월'] = 수익.index.month"
      ],
      "execution_count": 49,
      "outputs": []
    },
    {
      "cell_type": "code",
      "metadata": {
        "colab": {
          "base_uri": "https://localhost:8080/",
          "height": 297
        },
        "id": "UU_xRtblYzZ9",
        "outputId": "e0e29850-8008-4d3f-a31f-d85d9aa57376"
      },
      "source": [
        "수익[[\"년\",\"Close\"]].groupby(['년']).mean()"
      ],
      "execution_count": 51,
      "outputs": [
        {
          "output_type": "execute_result",
          "data": {
            "text/html": [
              "<div>\n",
              "<style scoped>\n",
              "    .dataframe tbody tr th:only-of-type {\n",
              "        vertical-align: middle;\n",
              "    }\n",
              "\n",
              "    .dataframe tbody tr th {\n",
              "        vertical-align: top;\n",
              "    }\n",
              "\n",
              "    .dataframe thead th {\n",
              "        text-align: right;\n",
              "    }\n",
              "</style>\n",
              "<table border=\"1\" class=\"dataframe\">\n",
              "  <thead>\n",
              "    <tr style=\"text-align: right;\">\n",
              "      <th></th>\n",
              "      <th>Close</th>\n",
              "    </tr>\n",
              "    <tr>\n",
              "      <th>년</th>\n",
              "      <th></th>\n",
              "    </tr>\n",
              "  </thead>\n",
              "  <tbody>\n",
              "    <tr>\n",
              "      <th>2015</th>\n",
              "      <td>-5.668016</td>\n",
              "    </tr>\n",
              "    <tr>\n",
              "      <th>2016</th>\n",
              "      <td>44.065041</td>\n",
              "    </tr>\n",
              "    <tr>\n",
              "      <th>2017</th>\n",
              "      <td>61.399177</td>\n",
              "    </tr>\n",
              "    <tr>\n",
              "      <th>2018</th>\n",
              "      <td>-50.245902</td>\n",
              "    </tr>\n",
              "    <tr>\n",
              "      <th>2019</th>\n",
              "      <td>69.512195</td>\n",
              "    </tr>\n",
              "    <tr>\n",
              "      <th>2020</th>\n",
              "      <td>101.612903</td>\n",
              "    </tr>\n",
              "    <tr>\n",
              "      <th>2021</th>\n",
              "      <td>50.000000</td>\n",
              "    </tr>\n",
              "  </tbody>\n",
              "</table>\n",
              "</div>"
            ],
            "text/plain": [
              "           Close\n",
              "년               \n",
              "2015   -5.668016\n",
              "2016   44.065041\n",
              "2017   61.399177\n",
              "2018  -50.245902\n",
              "2019   69.512195\n",
              "2020  101.612903\n",
              "2021   50.000000"
            ]
          },
          "metadata": {
            "tags": []
          },
          "execution_count": 51
        }
      ]
    },
    {
      "cell_type": "code",
      "metadata": {
        "colab": {
          "base_uri": "https://localhost:8080/",
          "height": 450
        },
        "id": "qdiMPfLhY7FK",
        "outputId": "c4616303-94ae-4681-c389-1ae255f9f259"
      },
      "source": [
        "수익[[\"년\",\"월\",\"Close\"]]"
      ],
      "execution_count": 54,
      "outputs": [
        {
          "output_type": "execute_result",
          "data": {
            "text/html": [
              "<div>\n",
              "<style scoped>\n",
              "    .dataframe tbody tr th:only-of-type {\n",
              "        vertical-align: middle;\n",
              "    }\n",
              "\n",
              "    .dataframe tbody tr th {\n",
              "        vertical-align: top;\n",
              "    }\n",
              "\n",
              "    .dataframe thead th {\n",
              "        text-align: right;\n",
              "    }\n",
              "</style>\n",
              "<table border=\"1\" class=\"dataframe\">\n",
              "  <thead>\n",
              "    <tr style=\"text-align: right;\">\n",
              "      <th></th>\n",
              "      <th>년</th>\n",
              "      <th>월</th>\n",
              "      <th>Close</th>\n",
              "    </tr>\n",
              "    <tr>\n",
              "      <th>Date</th>\n",
              "      <th></th>\n",
              "      <th></th>\n",
              "      <th></th>\n",
              "    </tr>\n",
              "  </thead>\n",
              "  <tbody>\n",
              "    <tr>\n",
              "      <th>2015-01-05</th>\n",
              "      <td>2015</td>\n",
              "      <td>1</td>\n",
              "      <td>60.0</td>\n",
              "    </tr>\n",
              "    <tr>\n",
              "      <th>2015-01-06</th>\n",
              "      <td>2015</td>\n",
              "      <td>1</td>\n",
              "      <td>-760.0</td>\n",
              "    </tr>\n",
              "    <tr>\n",
              "      <th>2015-01-07</th>\n",
              "      <td>2015</td>\n",
              "      <td>1</td>\n",
              "      <td>240.0</td>\n",
              "    </tr>\n",
              "    <tr>\n",
              "      <th>2015-01-08</th>\n",
              "      <td>2015</td>\n",
              "      <td>1</td>\n",
              "      <td>140.0</td>\n",
              "    </tr>\n",
              "    <tr>\n",
              "      <th>2015-01-09</th>\n",
              "      <td>2015</td>\n",
              "      <td>1</td>\n",
              "      <td>0.0</td>\n",
              "    </tr>\n",
              "    <tr>\n",
              "      <th>...</th>\n",
              "      <td>...</td>\n",
              "      <td>...</td>\n",
              "      <td>...</td>\n",
              "    </tr>\n",
              "    <tr>\n",
              "      <th>2021-01-25</th>\n",
              "      <td>2021</td>\n",
              "      <td>1</td>\n",
              "      <td>2600.0</td>\n",
              "    </tr>\n",
              "    <tr>\n",
              "      <th>2021-01-26</th>\n",
              "      <td>2021</td>\n",
              "      <td>1</td>\n",
              "      <td>-2700.0</td>\n",
              "    </tr>\n",
              "    <tr>\n",
              "      <th>2021-01-27</th>\n",
              "      <td>2021</td>\n",
              "      <td>1</td>\n",
              "      <td>-1100.0</td>\n",
              "    </tr>\n",
              "    <tr>\n",
              "      <th>2021-01-28</th>\n",
              "      <td>2021</td>\n",
              "      <td>1</td>\n",
              "      <td>-1900.0</td>\n",
              "    </tr>\n",
              "    <tr>\n",
              "      <th>2021-01-29</th>\n",
              "      <td>2021</td>\n",
              "      <td>1</td>\n",
              "      <td>-1700.0</td>\n",
              "    </tr>\n",
              "  </tbody>\n",
              "</table>\n",
              "<p>1494 rows × 3 columns</p>\n",
              "</div>"
            ],
            "text/plain": [
              "               년  월   Close\n",
              "Date                       \n",
              "2015-01-05  2015  1    60.0\n",
              "2015-01-06  2015  1  -760.0\n",
              "2015-01-07  2015  1   240.0\n",
              "2015-01-08  2015  1   140.0\n",
              "2015-01-09  2015  1     0.0\n",
              "...          ... ..     ...\n",
              "2021-01-25  2021  1  2600.0\n",
              "2021-01-26  2021  1 -2700.0\n",
              "2021-01-27  2021  1 -1100.0\n",
              "2021-01-28  2021  1 -1900.0\n",
              "2021-01-29  2021  1 -1700.0\n",
              "\n",
              "[1494 rows x 3 columns]"
            ]
          },
          "metadata": {
            "tags": []
          },
          "execution_count": 54
        }
      ]
    },
    {
      "cell_type": "code",
      "metadata": {
        "colab": {
          "base_uri": "https://localhost:8080/",
          "height": 450
        },
        "id": "vtL-5yDZZpmw",
        "outputId": "7de1c585-2275-4515-bee5-370afa24c538"
      },
      "source": [
        "수익[[\"년\",\"월\",\"Close\"]].groupby(['년',\"월\"]).mean()"
      ],
      "execution_count": 55,
      "outputs": [
        {
          "output_type": "execute_result",
          "data": {
            "text/html": [
              "<div>\n",
              "<style scoped>\n",
              "    .dataframe tbody tr th:only-of-type {\n",
              "        vertical-align: middle;\n",
              "    }\n",
              "\n",
              "    .dataframe tbody tr th {\n",
              "        vertical-align: top;\n",
              "    }\n",
              "\n",
              "    .dataframe thead th {\n",
              "        text-align: right;\n",
              "    }\n",
              "</style>\n",
              "<table border=\"1\" class=\"dataframe\">\n",
              "  <thead>\n",
              "    <tr style=\"text-align: right;\">\n",
              "      <th></th>\n",
              "      <th></th>\n",
              "      <th>Close</th>\n",
              "    </tr>\n",
              "    <tr>\n",
              "      <th>년</th>\n",
              "      <th>월</th>\n",
              "      <th></th>\n",
              "    </tr>\n",
              "  </thead>\n",
              "  <tbody>\n",
              "    <tr>\n",
              "      <th rowspan=\"5\" valign=\"top\">2015</th>\n",
              "      <th>1</th>\n",
              "      <td>35.000000</td>\n",
              "    </tr>\n",
              "    <tr>\n",
              "      <th>2</th>\n",
              "      <td>-9.411765</td>\n",
              "    </tr>\n",
              "    <tr>\n",
              "      <th>3</th>\n",
              "      <td>76.363636</td>\n",
              "    </tr>\n",
              "    <tr>\n",
              "      <th>4</th>\n",
              "      <td>-28.181818</td>\n",
              "    </tr>\n",
              "    <tr>\n",
              "      <th>5</th>\n",
              "      <td>-114.444444</td>\n",
              "    </tr>\n",
              "    <tr>\n",
              "      <th>...</th>\n",
              "      <th>...</th>\n",
              "      <td>...</td>\n",
              "    </tr>\n",
              "    <tr>\n",
              "      <th rowspan=\"4\" valign=\"top\">2020</th>\n",
              "      <th>9</th>\n",
              "      <td>200.000000</td>\n",
              "    </tr>\n",
              "    <tr>\n",
              "      <th>10</th>\n",
              "      <td>-84.210526</td>\n",
              "    </tr>\n",
              "    <tr>\n",
              "      <th>11</th>\n",
              "      <td>480.952381</td>\n",
              "    </tr>\n",
              "    <tr>\n",
              "      <th>12</th>\n",
              "      <td>680.952381</td>\n",
              "    </tr>\n",
              "    <tr>\n",
              "      <th>2021</th>\n",
              "      <th>1</th>\n",
              "      <td>50.000000</td>\n",
              "    </tr>\n",
              "  </tbody>\n",
              "</table>\n",
              "<p>73 rows × 1 columns</p>\n",
              "</div>"
            ],
            "text/plain": [
              "              Close\n",
              "년    월             \n",
              "2015 1    35.000000\n",
              "     2    -9.411765\n",
              "     3    76.363636\n",
              "     4   -28.181818\n",
              "     5  -114.444444\n",
              "...             ...\n",
              "2020 9   200.000000\n",
              "     10  -84.210526\n",
              "     11  480.952381\n",
              "     12  680.952381\n",
              "2021 1    50.000000\n",
              "\n",
              "[73 rows x 1 columns]"
            ]
          },
          "metadata": {
            "tags": []
          },
          "execution_count": 55
        }
      ]
    },
    {
      "cell_type": "code",
      "metadata": {
        "id": "zGA4rgmVZ1Jg"
      },
      "source": [
        "월수익평균 = 수익[[\"년\",\"월\",\"Close\"]].groupby(['년',\"월\"]).mean()"
      ],
      "execution_count": 56,
      "outputs": []
    },
    {
      "cell_type": "code",
      "metadata": {
        "colab": {
          "base_uri": "https://localhost:8080/",
          "height": 450
        },
        "id": "ZfvX8IP0aIvu",
        "outputId": "21ea674a-34af-4cb1-a699-36f63c6aa449"
      },
      "source": [
        "월수익평균"
      ],
      "execution_count": 57,
      "outputs": [
        {
          "output_type": "execute_result",
          "data": {
            "text/html": [
              "<div>\n",
              "<style scoped>\n",
              "    .dataframe tbody tr th:only-of-type {\n",
              "        vertical-align: middle;\n",
              "    }\n",
              "\n",
              "    .dataframe tbody tr th {\n",
              "        vertical-align: top;\n",
              "    }\n",
              "\n",
              "    .dataframe thead th {\n",
              "        text-align: right;\n",
              "    }\n",
              "</style>\n",
              "<table border=\"1\" class=\"dataframe\">\n",
              "  <thead>\n",
              "    <tr style=\"text-align: right;\">\n",
              "      <th></th>\n",
              "      <th></th>\n",
              "      <th>Close</th>\n",
              "    </tr>\n",
              "    <tr>\n",
              "      <th>년</th>\n",
              "      <th>월</th>\n",
              "      <th></th>\n",
              "    </tr>\n",
              "  </thead>\n",
              "  <tbody>\n",
              "    <tr>\n",
              "      <th rowspan=\"5\" valign=\"top\">2015</th>\n",
              "      <th>1</th>\n",
              "      <td>35.000000</td>\n",
              "    </tr>\n",
              "    <tr>\n",
              "      <th>2</th>\n",
              "      <td>-9.411765</td>\n",
              "    </tr>\n",
              "    <tr>\n",
              "      <th>3</th>\n",
              "      <td>76.363636</td>\n",
              "    </tr>\n",
              "    <tr>\n",
              "      <th>4</th>\n",
              "      <td>-28.181818</td>\n",
              "    </tr>\n",
              "    <tr>\n",
              "      <th>5</th>\n",
              "      <td>-114.444444</td>\n",
              "    </tr>\n",
              "    <tr>\n",
              "      <th>...</th>\n",
              "      <th>...</th>\n",
              "      <td>...</td>\n",
              "    </tr>\n",
              "    <tr>\n",
              "      <th rowspan=\"4\" valign=\"top\">2020</th>\n",
              "      <th>9</th>\n",
              "      <td>200.000000</td>\n",
              "    </tr>\n",
              "    <tr>\n",
              "      <th>10</th>\n",
              "      <td>-84.210526</td>\n",
              "    </tr>\n",
              "    <tr>\n",
              "      <th>11</th>\n",
              "      <td>480.952381</td>\n",
              "    </tr>\n",
              "    <tr>\n",
              "      <th>12</th>\n",
              "      <td>680.952381</td>\n",
              "    </tr>\n",
              "    <tr>\n",
              "      <th>2021</th>\n",
              "      <th>1</th>\n",
              "      <td>50.000000</td>\n",
              "    </tr>\n",
              "  </tbody>\n",
              "</table>\n",
              "<p>73 rows × 1 columns</p>\n",
              "</div>"
            ],
            "text/plain": [
              "              Close\n",
              "년    월             \n",
              "2015 1    35.000000\n",
              "     2    -9.411765\n",
              "     3    76.363636\n",
              "     4   -28.181818\n",
              "     5  -114.444444\n",
              "...             ...\n",
              "2020 9   200.000000\n",
              "     10  -84.210526\n",
              "     11  480.952381\n",
              "     12  680.952381\n",
              "2021 1    50.000000\n",
              "\n",
              "[73 rows x 1 columns]"
            ]
          },
          "metadata": {
            "tags": []
          },
          "execution_count": 57
        }
      ]
    },
    {
      "cell_type": "code",
      "metadata": {
        "id": "t54sGeb3aJyg"
      },
      "source": [
        "월수익평균.reset_index(inplace=True)"
      ],
      "execution_count": 59,
      "outputs": []
    },
    {
      "cell_type": "code",
      "metadata": {
        "colab": {
          "base_uri": "https://localhost:8080/",
          "height": 552
        },
        "id": "T24UC-9faTWF",
        "outputId": "ffb8947f-b88c-492e-a35e-45419544f734"
      },
      "source": [
        "plt.figure(figsize=(10,7))\r\n",
        "sns.barplot(data=월수익평균, x=\"년\", y=\"Close\")"
      ],
      "execution_count": 62,
      "outputs": [
        {
          "output_type": "execute_result",
          "data": {
            "text/plain": [
              "<matplotlib.axes._subplots.AxesSubplot at 0x7f3aff097828>"
            ]
          },
          "metadata": {
            "tags": []
          },
          "execution_count": 62
        },
        {
          "output_type": "stream",
          "text": [
            "/usr/local/lib/python3.6/dist-packages/matplotlib/backends/backend_agg.py:214: RuntimeWarning: Glyph 8722 missing from current font.\n",
            "  font.set_text(s, 0.0, flags=flags)\n",
            "/usr/local/lib/python3.6/dist-packages/matplotlib/backends/backend_agg.py:183: RuntimeWarning: Glyph 8722 missing from current font.\n",
            "  font.set_text(s, 0, flags=flags)\n"
          ],
          "name": "stderr"
        },
        {
          "output_type": "display_data",
          "data": {
            "image/png": "[encoded data removed]",
            "text/plain": [
              "<Figure size 720x504 with 1 Axes>"
            ]
          },
          "metadata": {
            "tags": [],
            "image/png": {
              "width": 694,
              "height": 463
            }
          }
        }
      ]
    },
    {
      "cell_type": "code",
      "metadata": {
        "colab": {
          "base_uri": "https://localhost:8080/",
          "height": 552
        },
        "id": "2knLe1IHasGz",
        "outputId": "a459c8ea-90d3-40a6-f06b-273eb6b2bc8e"
      },
      "source": [
        "plt.figure(figsize=(10,7))\r\n",
        "sns.barplot(data=월수익평균, x=\"년\", y=\"Close\",hue=\"월\")"
      ],
      "execution_count": 63,
      "outputs": [
        {
          "output_type": "execute_result",
          "data": {
            "text/plain": [
              "<matplotlib.axes._subplots.AxesSubplot at 0x7f3affcb6cc0>"
            ]
          },
          "metadata": {
            "tags": []
          },
          "execution_count": 63
        },
        {
          "output_type": "stream",
          "text": [
            "/usr/local/lib/python3.6/dist-packages/matplotlib/backends/backend_agg.py:214: RuntimeWarning: Glyph 8722 missing from current font.\n",
            "  font.set_text(s, 0.0, flags=flags)\n",
            "/usr/local/lib/python3.6/dist-packages/matplotlib/backends/backend_agg.py:183: RuntimeWarning: Glyph 8722 missing from current font.\n",
            "  font.set_text(s, 0, flags=flags)\n"
          ],
          "name": "stderr"
        },
        {
          "output_type": "display_data",
          "data": {
            "image/png": "[encoded data removed]",
            "text/plain": [
              "<Figure size 720x504 with 1 Axes>"
            ]
          },
          "metadata": {
            "tags": [],
            "image/png": {
              "width": 694,
              "height": 463
            }
          }
        }
      ]
    },
    {
      "cell_type": "code",
      "metadata": {
        "colab": {
          "base_uri": "https://localhost:8080/",
          "height": 450
        },
        "id": "H55ga7OAa-C_",
        "outputId": "04924c14-e081-4cd7-fcf7-29086b37d423"
      },
      "source": [
        "수익[[\"년\",\"월\",\"Close\"]].groupby([\"년\",\"월\"]).median()"
      ],
      "execution_count": 64,
      "outputs": [
        {
          "output_type": "execute_result",
          "data": {
            "text/html": [
              "<div>\n",
              "<style scoped>\n",
              "    .dataframe tbody tr th:only-of-type {\n",
              "        vertical-align: middle;\n",
              "    }\n",
              "\n",
              "    .dataframe tbody tr th {\n",
              "        vertical-align: top;\n",
              "    }\n",
              "\n",
              "    .dataframe thead th {\n",
              "        text-align: right;\n",
              "    }\n",
              "</style>\n",
              "<table border=\"1\" class=\"dataframe\">\n",
              "  <thead>\n",
              "    <tr style=\"text-align: right;\">\n",
              "      <th></th>\n",
              "      <th></th>\n",
              "      <th>Close</th>\n",
              "    </tr>\n",
              "    <tr>\n",
              "      <th>년</th>\n",
              "      <th>월</th>\n",
              "      <th></th>\n",
              "    </tr>\n",
              "  </thead>\n",
              "  <tbody>\n",
              "    <tr>\n",
              "      <th rowspan=\"5\" valign=\"top\">2015</th>\n",
              "      <th>1</th>\n",
              "      <td>80.0</td>\n",
              "    </tr>\n",
              "    <tr>\n",
              "      <th>2</th>\n",
              "      <td>-20.0</td>\n",
              "    </tr>\n",
              "    <tr>\n",
              "      <th>3</th>\n",
              "      <td>130.0</td>\n",
              "    </tr>\n",
              "    <tr>\n",
              "      <th>4</th>\n",
              "      <td>-50.0</td>\n",
              "    </tr>\n",
              "    <tr>\n",
              "      <th>5</th>\n",
              "      <td>-70.0</td>\n",
              "    </tr>\n",
              "    <tr>\n",
              "      <th>...</th>\n",
              "      <th>...</th>\n",
              "      <td>...</td>\n",
              "    </tr>\n",
              "    <tr>\n",
              "      <th rowspan=\"4\" valign=\"top\">2020</th>\n",
              "      <th>9</th>\n",
              "      <td>100.0</td>\n",
              "    </tr>\n",
              "    <tr>\n",
              "      <th>10</th>\n",
              "      <td>0.0</td>\n",
              "    </tr>\n",
              "    <tr>\n",
              "      <th>11</th>\n",
              "      <td>100.0</td>\n",
              "    </tr>\n",
              "    <tr>\n",
              "      <th>12</th>\n",
              "      <td>400.0</td>\n",
              "    </tr>\n",
              "    <tr>\n",
              "      <th>2021</th>\n",
              "      <th>1</th>\n",
              "      <td>-200.0</td>\n",
              "    </tr>\n",
              "  </tbody>\n",
              "</table>\n",
              "<p>73 rows × 1 columns</p>\n",
              "</div>"
            ],
            "text/plain": [
              "         Close\n",
              "년    월        \n",
              "2015 1    80.0\n",
              "     2   -20.0\n",
              "     3   130.0\n",
              "     4   -50.0\n",
              "     5   -70.0\n",
              "...        ...\n",
              "2020 9   100.0\n",
              "     10    0.0\n",
              "     11  100.0\n",
              "     12  400.0\n",
              "2021 1  -200.0\n",
              "\n",
              "[73 rows x 1 columns]"
            ]
          },
          "metadata": {
            "tags": []
          },
          "execution_count": 64
        }
      ]
    },
    {
      "cell_type": "code",
      "metadata": {
        "id": "kv-A4DstbjaZ"
      },
      "source": [
        "월수익중앙값 = 수익[[\"년\",\"월\",\"Close\"]].groupby([\"년\",\"월\"]).median()"
      ],
      "execution_count": 65,
      "outputs": []
    },
    {
      "cell_type": "code",
      "metadata": {
        "id": "yUAhbCGJcGAF"
      },
      "source": [
        "월수익중앙값.reset_index(inplace = True)"
      ],
      "execution_count": 67,
      "outputs": []
    },
    {
      "cell_type": "code",
      "metadata": {
        "colab": {
          "base_uri": "https://localhost:8080/",
          "height": 727
        },
        "id": "DsQYD6eGcJa5",
        "outputId": "5801a93d-9fcf-4379-9466-6cb775412fb0"
      },
      "source": [
        "plt.figure(figsize=(15,10))\r\n",
        "sns.barplot(data=월수익중앙값, x=\"년\", y=\"Close\")"
      ],
      "execution_count": 68,
      "outputs": [
        {
          "output_type": "execute_result",
          "data": {
            "text/plain": [
              "<matplotlib.axes._subplots.AxesSubplot at 0x7f3aff014198>"
            ]
          },
          "metadata": {
            "tags": []
          },
          "execution_count": 68
        },
        {
          "output_type": "stream",
          "text": [
            "/usr/local/lib/python3.6/dist-packages/matplotlib/backends/backend_agg.py:214: RuntimeWarning: Glyph 8722 missing from current font.\n",
            "  font.set_text(s, 0.0, flags=flags)\n",
            "/usr/local/lib/python3.6/dist-packages/matplotlib/backends/backend_agg.py:183: RuntimeWarning: Glyph 8722 missing from current font.\n",
            "  font.set_text(s, 0, flags=flags)\n"
          ],
          "name": "stderr"
        },
        {
          "output_type": "display_data",
          "data": {
            "image/png": "[encoded data removed]",
            "text/plain": [
              "<Figure size 1080x720 with 1 Axes>"
            ]
          },
          "metadata": {
            "tags": [],
            "image/png": {
              "width": 1007,
              "height": 638
            }
          }
        }
      ]
    },
    {
      "cell_type": "code",
      "metadata": {
        "colab": {
          "base_uri": "https://localhost:8080/",
          "height": 727
        },
        "id": "pqcVCkPtcXfD",
        "outputId": "9c4efd99-9568-404d-a1fc-2247aff03932"
      },
      "source": [
        "plt.figure(figsize=(15,10))\r\n",
        "sns.barplot(data=월수익중앙값, x=\"년\", y=\"Close\", hue='월')"
      ],
      "execution_count": 69,
      "outputs": [
        {
          "output_type": "execute_result",
          "data": {
            "text/plain": [
              "<matplotlib.axes._subplots.AxesSubplot at 0x7f3aff0c1f60>"
            ]
          },
          "metadata": {
            "tags": []
          },
          "execution_count": 69
        },
        {
          "output_type": "stream",
          "text": [
            "/usr/local/lib/python3.6/dist-packages/matplotlib/backends/backend_agg.py:214: RuntimeWarning: Glyph 8722 missing from current font.\n",
            "  font.set_text(s, 0.0, flags=flags)\n",
            "/usr/local/lib/python3.6/dist-packages/matplotlib/backends/backend_agg.py:183: RuntimeWarning: Glyph 8722 missing from current font.\n",
            "  font.set_text(s, 0, flags=flags)\n"
          ],
          "name": "stderr"
        },
        {
          "output_type": "display_data",
          "data": {
            "image/png": "[encoded data removed]",
            "text/plain": [
              "<Figure size 1080x720 with 1 Axes>"
            ]
          },
          "metadata": {
            "tags": [],
            "image/png": {
              "width": 1007,
              "height": 638
            }
          }
        }
      ]
    },
    {
      "cell_type": "code",
      "metadata": {
        "colab": {
          "base_uri": "https://localhost:8080/"
        },
        "id": "P3VBZCYUccXR",
        "outputId": "2383e8d1-70d5-4345-c1b2-520cf496cb3a"
      },
      "source": [
        "수익[\"Close\"].min()"
      ],
      "execution_count": 70,
      "outputs": [
        {
          "output_type": "execute_result",
          "data": {
            "text/plain": [
              "-3000.0"
            ]
          },
          "metadata": {
            "tags": []
          },
          "execution_count": 70
        }
      ]
    },
    {
      "cell_type": "code",
      "metadata": {
        "colab": {
          "base_uri": "https://localhost:8080/"
        },
        "id": "4aV7F0dMctMa",
        "outputId": "c78f626c-67aa-45b9-8bd4-d390da3179b2"
      },
      "source": [
        "수익[\"Close\"].max()"
      ],
      "execution_count": 71,
      "outputs": [
        {
          "output_type": "execute_result",
          "data": {
            "text/plain": [
              "5900.0"
            ]
          },
          "metadata": {
            "tags": []
          },
          "execution_count": 71
        }
      ]
    },
    {
      "cell_type": "code",
      "metadata": {
        "colab": {
          "base_uri": "https://localhost:8080/",
          "height": 663
        },
        "id": "KgaBPMLYcv9C",
        "outputId": "00b7d541-6d62-4dc1-f218-57a533e25161"
      },
      "source": [
        "수익[수익[\"년\"]==2021].sort_values([\"Close\"])"
      ],
      "execution_count": 74,
      "outputs": [
        {
          "output_type": "execute_result",
          "data": {
            "text/html": [
              "<div>\n",
              "<style scoped>\n",
              "    .dataframe tbody tr th:only-of-type {\n",
              "        vertical-align: middle;\n",
              "    }\n",
              "\n",
              "    .dataframe tbody tr th {\n",
              "        vertical-align: top;\n",
              "    }\n",
              "\n",
              "    .dataframe thead th {\n",
              "        text-align: right;\n",
              "    }\n",
              "</style>\n",
              "<table border=\"1\" class=\"dataframe\">\n",
              "  <thead>\n",
              "    <tr style=\"text-align: right;\">\n",
              "      <th></th>\n",
              "      <th>Close</th>\n",
              "      <th>년</th>\n",
              "      <th>월</th>\n",
              "    </tr>\n",
              "    <tr>\n",
              "      <th>Date</th>\n",
              "      <th></th>\n",
              "      <th></th>\n",
              "      <th></th>\n",
              "    </tr>\n",
              "  </thead>\n",
              "  <tbody>\n",
              "    <tr>\n",
              "      <th>2021-01-18</th>\n",
              "      <td>-3000.0</td>\n",
              "      <td>2021</td>\n",
              "      <td>1</td>\n",
              "    </tr>\n",
              "    <tr>\n",
              "      <th>2021-01-26</th>\n",
              "      <td>-2700.0</td>\n",
              "      <td>2021</td>\n",
              "      <td>1</td>\n",
              "    </tr>\n",
              "    <tr>\n",
              "      <th>2021-01-28</th>\n",
              "      <td>-1900.0</td>\n",
              "      <td>2021</td>\n",
              "      <td>1</td>\n",
              "    </tr>\n",
              "    <tr>\n",
              "      <th>2021-01-15</th>\n",
              "      <td>-1700.0</td>\n",
              "      <td>2021</td>\n",
              "      <td>1</td>\n",
              "    </tr>\n",
              "    <tr>\n",
              "      <th>2021-01-29</th>\n",
              "      <td>-1700.0</td>\n",
              "      <td>2021</td>\n",
              "      <td>1</td>\n",
              "    </tr>\n",
              "    <tr>\n",
              "      <th>2021-01-06</th>\n",
              "      <td>-1700.0</td>\n",
              "      <td>2021</td>\n",
              "      <td>1</td>\n",
              "    </tr>\n",
              "    <tr>\n",
              "      <th>2021-01-22</th>\n",
              "      <td>-1300.0</td>\n",
              "      <td>2021</td>\n",
              "      <td>1</td>\n",
              "    </tr>\n",
              "    <tr>\n",
              "      <th>2021-01-27</th>\n",
              "      <td>-1100.0</td>\n",
              "      <td>2021</td>\n",
              "      <td>1</td>\n",
              "    </tr>\n",
              "    <tr>\n",
              "      <th>2021-01-13</th>\n",
              "      <td>-900.0</td>\n",
              "      <td>2021</td>\n",
              "      <td>1</td>\n",
              "    </tr>\n",
              "    <tr>\n",
              "      <th>2021-01-12</th>\n",
              "      <td>-400.0</td>\n",
              "      <td>2021</td>\n",
              "      <td>1</td>\n",
              "    </tr>\n",
              "    <tr>\n",
              "      <th>2021-01-14</th>\n",
              "      <td>0.0</td>\n",
              "      <td>2021</td>\n",
              "      <td>1</td>\n",
              "    </tr>\n",
              "    <tr>\n",
              "      <th>2021-01-20</th>\n",
              "      <td>200.0</td>\n",
              "      <td>2021</td>\n",
              "      <td>1</td>\n",
              "    </tr>\n",
              "    <tr>\n",
              "      <th>2021-01-07</th>\n",
              "      <td>700.0</td>\n",
              "      <td>2021</td>\n",
              "      <td>1</td>\n",
              "    </tr>\n",
              "    <tr>\n",
              "      <th>2021-01-21</th>\n",
              "      <td>900.0</td>\n",
              "      <td>2021</td>\n",
              "      <td>1</td>\n",
              "    </tr>\n",
              "    <tr>\n",
              "      <th>2021-01-05</th>\n",
              "      <td>900.0</td>\n",
              "      <td>2021</td>\n",
              "      <td>1</td>\n",
              "    </tr>\n",
              "    <tr>\n",
              "      <th>2021-01-19</th>\n",
              "      <td>2000.0</td>\n",
              "      <td>2021</td>\n",
              "      <td>1</td>\n",
              "    </tr>\n",
              "    <tr>\n",
              "      <th>2021-01-04</th>\n",
              "      <td>2000.0</td>\n",
              "      <td>2021</td>\n",
              "      <td>1</td>\n",
              "    </tr>\n",
              "    <tr>\n",
              "      <th>2021-01-11</th>\n",
              "      <td>2200.0</td>\n",
              "      <td>2021</td>\n",
              "      <td>1</td>\n",
              "    </tr>\n",
              "    <tr>\n",
              "      <th>2021-01-25</th>\n",
              "      <td>2600.0</td>\n",
              "      <td>2021</td>\n",
              "      <td>1</td>\n",
              "    </tr>\n",
              "    <tr>\n",
              "      <th>2021-01-08</th>\n",
              "      <td>5900.0</td>\n",
              "      <td>2021</td>\n",
              "      <td>1</td>\n",
              "    </tr>\n",
              "  </tbody>\n",
              "</table>\n",
              "</div>"
            ],
            "text/plain": [
              "             Close     년  월\n",
              "Date                       \n",
              "2021-01-18 -3000.0  2021  1\n",
              "2021-01-26 -2700.0  2021  1\n",
              "2021-01-28 -1900.0  2021  1\n",
              "2021-01-15 -1700.0  2021  1\n",
              "2021-01-29 -1700.0  2021  1\n",
              "2021-01-06 -1700.0  2021  1\n",
              "2021-01-22 -1300.0  2021  1\n",
              "2021-01-27 -1100.0  2021  1\n",
              "2021-01-13  -900.0  2021  1\n",
              "2021-01-12  -400.0  2021  1\n",
              "2021-01-14     0.0  2021  1\n",
              "2021-01-20   200.0  2021  1\n",
              "2021-01-07   700.0  2021  1\n",
              "2021-01-21   900.0  2021  1\n",
              "2021-01-05   900.0  2021  1\n",
              "2021-01-19  2000.0  2021  1\n",
              "2021-01-04  2000.0  2021  1\n",
              "2021-01-11  2200.0  2021  1\n",
              "2021-01-25  2600.0  2021  1\n",
              "2021-01-08  5900.0  2021  1"
            ]
          },
          "metadata": {
            "tags": []
          },
          "execution_count": 74
        }
      ]
    },
    {
      "cell_type": "code",
      "metadata": {
        "id": "1MTiX0GodGN2"
      },
      "source": [
        ""
      ],
      "execution_count": null,
      "outputs": []
    }
  ]
}