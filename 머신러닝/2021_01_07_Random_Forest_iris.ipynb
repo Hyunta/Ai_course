{
  "nbformat": 4,
  "nbformat_minor": 0,
  "metadata": {
    "colab": {
      "name": "2021-01-07 Random Forest_iris.ipynb",
      "provenance": [],
      "authorship_tag": "ABX9TyM7krYfsA0zHKWAO2rEWEtj",
      "include_colab_link": true
    },
    "kernelspec": {
      "name": "python3",
      "display_name": "Python 3"
    }
  },
  "cells": [
    {
      "cell_type": "markdown",
      "metadata": {
        "id": "view-in-github",
        "colab_type": "text"
      },
      "source": [
        "<a href=\"https://colab.research.google.com/github/Hyunta/Bigdata/blob/main/2021_01_07_Random_Forest_iris.ipynb\" target=\"_parent\"><img src=\"https://colab.research.google.com/assets/colab-badge.svg\" alt=\"Open In Colab\"/></a>"
      ]
    },
    {
      "cell_type": "code",
      "metadata": {
        "id": "Pxd3ok4K0Nra"
      },
      "source": [
        "from sklearn.datasets import load_iris"
      ],
      "execution_count": null,
      "outputs": []
    },
    {
      "cell_type": "code",
      "metadata": {
        "colab": {
          "base_uri": "https://localhost:8080/"
        },
        "id": "01pZDcr85iT6",
        "outputId": "b0344238-306a-4173-f509-d896e9a0a698"
      },
      "source": [
        "load_iris()"
      ],
      "execution_count": null,
      "outputs": [
        {
          "output_type": "execute_result",
          "data": {
            "text/plain": [
              "{'DESCR': '.. _iris_dataset:\\n\\nIris plants dataset\\n--------------------\\n\\n**Data Set Characteristics:**\\n\\n    :Number of Instances: 150 (50 in each of three classes)\\n    :Number of Attributes: 4 numeric, predictive attributes and the class\\n    :Attribute Information:\\n        - sepal length in cm\\n        - sepal width in cm\\n        - petal length in cm\\n        - petal width in cm\\n        - class:\\n                - Iris-Setosa\\n                - Iris-Versicolour\\n                - Iris-Virginica\\n                \\n    :Summary Statistics:\\n\\n    ============== ==== ==== ======= ===== ====================\\n                    Min  Max   Mean    SD   Class Correlation\\n    ============== ==== ==== ======= ===== ====================\\n    sepal length:   4.3  7.9   5.84   0.83    0.7826\\n    sepal width:    2.0  4.4   3.05   0.43   -0.4194\\n    petal length:   1.0  6.9   3.76   1.76    0.9490  (high!)\\n    petal width:    0.1  2.5   1.20   0.76    0.9565  (high!)\\n    ============== ==== ==== ======= ===== ====================\\n\\n    :Missing Attribute Values: None\\n    :Class Distribution: 33.3% for each of 3 classes.\\n    :Creator: R.A. Fisher\\n    :Donor: Michael Marshall (MARSHALL%PLU@io.arc.nasa.gov)\\n    :Date: July, 1988\\n\\nThe famous Iris database, first used by Sir R.A. Fisher. The dataset is taken\\nfrom Fisher\\'s paper. Note that it\\'s the same as in R, but not as in the UCI\\nMachine Learning Repository, which has two wrong data points.\\n\\nThis is perhaps the best known database to be found in the\\npattern recognition literature.  Fisher\\'s paper is a classic in the field and\\nis referenced frequently to this day.  (See Duda & Hart, for example.)  The\\ndata set contains 3 classes of 50 instances each, where each class refers to a\\ntype of iris plant.  One class is linearly separable from the other 2; the\\nlatter are NOT linearly separable from each other.\\n\\n.. topic:: References\\n\\n   - Fisher, R.A. \"The use of multiple measurements in taxonomic problems\"\\n     Annual Eugenics, 7, Part II, 179-188 (1936); also in \"Contributions to\\n     Mathematical Statistics\" (John Wiley, NY, 1950).\\n   - Duda, R.O., & Hart, P.E. (1973) Pattern Classification and Scene Analysis.\\n     (Q327.D83) John Wiley & Sons.  ISBN 0-471-22361-1.  See page 218.\\n   - Dasarathy, B.V. (1980) \"Nosing Around the Neighborhood: A New System\\n     Structure and Classification Rule for Recognition in Partially Exposed\\n     Environments\".  IEEE Transactions on Pattern Analysis and Machine\\n     Intelligence, Vol. PAMI-2, No. 1, 67-71.\\n   - Gates, G.W. (1972) \"The Reduced Nearest Neighbor Rule\".  IEEE Transactions\\n     on Information Theory, May 1972, 431-433.\\n   - See also: 1988 MLC Proceedings, 54-64.  Cheeseman et al\"s AUTOCLASS II\\n     conceptual clustering system finds 3 classes in the data.\\n   - Many, many more ...',\n",
              " 'data': array([[5.1, 3.5, 1.4, 0.2],\n",
              "        [4.9, 3. , 1.4, 0.2],\n",
              "        [4.7, 3.2, 1.3, 0.2],\n",
              "        [4.6, 3.1, 1.5, 0.2],\n",
              "        [5. , 3.6, 1.4, 0.2],\n",
              "        [5.4, 3.9, 1.7, 0.4],\n",
              "        [4.6, 3.4, 1.4, 0.3],\n",
              "        [5. , 3.4, 1.5, 0.2],\n",
              "        [4.4, 2.9, 1.4, 0.2],\n",
              "        [4.9, 3.1, 1.5, 0.1],\n",
              "        [5.4, 3.7, 1.5, 0.2],\n",
              "        [4.8, 3.4, 1.6, 0.2],\n",
              "        [4.8, 3. , 1.4, 0.1],\n",
              "        [4.3, 3. , 1.1, 0.1],\n",
              "        [5.8, 4. , 1.2, 0.2],\n",
              "        [5.7, 4.4, 1.5, 0.4],\n",
              "        [5.4, 3.9, 1.3, 0.4],\n",
              "        [5.1, 3.5, 1.4, 0.3],\n",
              "        [5.7, 3.8, 1.7, 0.3],\n",
              "        [5.1, 3.8, 1.5, 0.3],\n",
              "        [5.4, 3.4, 1.7, 0.2],\n",
              "        [5.1, 3.7, 1.5, 0.4],\n",
              "        [4.6, 3.6, 1. , 0.2],\n",
              "        [5.1, 3.3, 1.7, 0.5],\n",
              "        [4.8, 3.4, 1.9, 0.2],\n",
              "        [5. , 3. , 1.6, 0.2],\n",
              "        [5. , 3.4, 1.6, 0.4],\n",
              "        [5.2, 3.5, 1.5, 0.2],\n",
              "        [5.2, 3.4, 1.4, 0.2],\n",
              "        [4.7, 3.2, 1.6, 0.2],\n",
              "        [4.8, 3.1, 1.6, 0.2],\n",
              "        [5.4, 3.4, 1.5, 0.4],\n",
              "        [5.2, 4.1, 1.5, 0.1],\n",
              "        [5.5, 4.2, 1.4, 0.2],\n",
              "        [4.9, 3.1, 1.5, 0.2],\n",
              "        [5. , 3.2, 1.2, 0.2],\n",
              "        [5.5, 3.5, 1.3, 0.2],\n",
              "        [4.9, 3.6, 1.4, 0.1],\n",
              "        [4.4, 3. , 1.3, 0.2],\n",
              "        [5.1, 3.4, 1.5, 0.2],\n",
              "        [5. , 3.5, 1.3, 0.3],\n",
              "        [4.5, 2.3, 1.3, 0.3],\n",
              "        [4.4, 3.2, 1.3, 0.2],\n",
              "        [5. , 3.5, 1.6, 0.6],\n",
              "        [5.1, 3.8, 1.9, 0.4],\n",
              "        [4.8, 3. , 1.4, 0.3],\n",
              "        [5.1, 3.8, 1.6, 0.2],\n",
              "        [4.6, 3.2, 1.4, 0.2],\n",
              "        [5.3, 3.7, 1.5, 0.2],\n",
              "        [5. , 3.3, 1.4, 0.2],\n",
              "        [7. , 3.2, 4.7, 1.4],\n",
              "        [6.4, 3.2, 4.5, 1.5],\n",
              "        [6.9, 3.1, 4.9, 1.5],\n",
              "        [5.5, 2.3, 4. , 1.3],\n",
              "        [6.5, 2.8, 4.6, 1.5],\n",
              "        [5.7, 2.8, 4.5, 1.3],\n",
              "        [6.3, 3.3, 4.7, 1.6],\n",
              "        [4.9, 2.4, 3.3, 1. ],\n",
              "        [6.6, 2.9, 4.6, 1.3],\n",
              "        [5.2, 2.7, 3.9, 1.4],\n",
              "        [5. , 2. , 3.5, 1. ],\n",
              "        [5.9, 3. , 4.2, 1.5],\n",
              "        [6. , 2.2, 4. , 1. ],\n",
              "        [6.1, 2.9, 4.7, 1.4],\n",
              "        [5.6, 2.9, 3.6, 1.3],\n",
              "        [6.7, 3.1, 4.4, 1.4],\n",
              "        [5.6, 3. , 4.5, 1.5],\n",
              "        [5.8, 2.7, 4.1, 1. ],\n",
              "        [6.2, 2.2, 4.5, 1.5],\n",
              "        [5.6, 2.5, 3.9, 1.1],\n",
              "        [5.9, 3.2, 4.8, 1.8],\n",
              "        [6.1, 2.8, 4. , 1.3],\n",
              "        [6.3, 2.5, 4.9, 1.5],\n",
              "        [6.1, 2.8, 4.7, 1.2],\n",
              "        [6.4, 2.9, 4.3, 1.3],\n",
              "        [6.6, 3. , 4.4, 1.4],\n",
              "        [6.8, 2.8, 4.8, 1.4],\n",
              "        [6.7, 3. , 5. , 1.7],\n",
              "        [6. , 2.9, 4.5, 1.5],\n",
              "        [5.7, 2.6, 3.5, 1. ],\n",
              "        [5.5, 2.4, 3.8, 1.1],\n",
              "        [5.5, 2.4, 3.7, 1. ],\n",
              "        [5.8, 2.7, 3.9, 1.2],\n",
              "        [6. , 2.7, 5.1, 1.6],\n",
              "        [5.4, 3. , 4.5, 1.5],\n",
              "        [6. , 3.4, 4.5, 1.6],\n",
              "        [6.7, 3.1, 4.7, 1.5],\n",
              "        [6.3, 2.3, 4.4, 1.3],\n",
              "        [5.6, 3. , 4.1, 1.3],\n",
              "        [5.5, 2.5, 4. , 1.3],\n",
              "        [5.5, 2.6, 4.4, 1.2],\n",
              "        [6.1, 3. , 4.6, 1.4],\n",
              "        [5.8, 2.6, 4. , 1.2],\n",
              "        [5. , 2.3, 3.3, 1. ],\n",
              "        [5.6, 2.7, 4.2, 1.3],\n",
              "        [5.7, 3. , 4.2, 1.2],\n",
              "        [5.7, 2.9, 4.2, 1.3],\n",
              "        [6.2, 2.9, 4.3, 1.3],\n",
              "        [5.1, 2.5, 3. , 1.1],\n",
              "        [5.7, 2.8, 4.1, 1.3],\n",
              "        [6.3, 3.3, 6. , 2.5],\n",
              "        [5.8, 2.7, 5.1, 1.9],\n",
              "        [7.1, 3. , 5.9, 2.1],\n",
              "        [6.3, 2.9, 5.6, 1.8],\n",
              "        [6.5, 3. , 5.8, 2.2],\n",
              "        [7.6, 3. , 6.6, 2.1],\n",
              "        [4.9, 2.5, 4.5, 1.7],\n",
              "        [7.3, 2.9, 6.3, 1.8],\n",
              "        [6.7, 2.5, 5.8, 1.8],\n",
              "        [7.2, 3.6, 6.1, 2.5],\n",
              "        [6.5, 3.2, 5.1, 2. ],\n",
              "        [6.4, 2.7, 5.3, 1.9],\n",
              "        [6.8, 3. , 5.5, 2.1],\n",
              "        [5.7, 2.5, 5. , 2. ],\n",
              "        [5.8, 2.8, 5.1, 2.4],\n",
              "        [6.4, 3.2, 5.3, 2.3],\n",
              "        [6.5, 3. , 5.5, 1.8],\n",
              "        [7.7, 3.8, 6.7, 2.2],\n",
              "        [7.7, 2.6, 6.9, 2.3],\n",
              "        [6. , 2.2, 5. , 1.5],\n",
              "        [6.9, 3.2, 5.7, 2.3],\n",
              "        [5.6, 2.8, 4.9, 2. ],\n",
              "        [7.7, 2.8, 6.7, 2. ],\n",
              "        [6.3, 2.7, 4.9, 1.8],\n",
              "        [6.7, 3.3, 5.7, 2.1],\n",
              "        [7.2, 3.2, 6. , 1.8],\n",
              "        [6.2, 2.8, 4.8, 1.8],\n",
              "        [6.1, 3. , 4.9, 1.8],\n",
              "        [6.4, 2.8, 5.6, 2.1],\n",
              "        [7.2, 3. , 5.8, 1.6],\n",
              "        [7.4, 2.8, 6.1, 1.9],\n",
              "        [7.9, 3.8, 6.4, 2. ],\n",
              "        [6.4, 2.8, 5.6, 2.2],\n",
              "        [6.3, 2.8, 5.1, 1.5],\n",
              "        [6.1, 2.6, 5.6, 1.4],\n",
              "        [7.7, 3. , 6.1, 2.3],\n",
              "        [6.3, 3.4, 5.6, 2.4],\n",
              "        [6.4, 3.1, 5.5, 1.8],\n",
              "        [6. , 3. , 4.8, 1.8],\n",
              "        [6.9, 3.1, 5.4, 2.1],\n",
              "        [6.7, 3.1, 5.6, 2.4],\n",
              "        [6.9, 3.1, 5.1, 2.3],\n",
              "        [5.8, 2.7, 5.1, 1.9],\n",
              "        [6.8, 3.2, 5.9, 2.3],\n",
              "        [6.7, 3.3, 5.7, 2.5],\n",
              "        [6.7, 3. , 5.2, 2.3],\n",
              "        [6.3, 2.5, 5. , 1.9],\n",
              "        [6.5, 3. , 5.2, 2. ],\n",
              "        [6.2, 3.4, 5.4, 2.3],\n",
              "        [5.9, 3. , 5.1, 1.8]]),\n",
              " 'feature_names': ['sepal length (cm)',\n",
              "  'sepal width (cm)',\n",
              "  'petal length (cm)',\n",
              "  'petal width (cm)'],\n",
              " 'filename': '/usr/local/lib/python3.6/dist-packages/sklearn/datasets/data/iris.csv',\n",
              " 'target': array([0, 0, 0, 0, 0, 0, 0, 0, 0, 0, 0, 0, 0, 0, 0, 0, 0, 0, 0, 0, 0, 0,\n",
              "        0, 0, 0, 0, 0, 0, 0, 0, 0, 0, 0, 0, 0, 0, 0, 0, 0, 0, 0, 0, 0, 0,\n",
              "        0, 0, 0, 0, 0, 0, 1, 1, 1, 1, 1, 1, 1, 1, 1, 1, 1, 1, 1, 1, 1, 1,\n",
              "        1, 1, 1, 1, 1, 1, 1, 1, 1, 1, 1, 1, 1, 1, 1, 1, 1, 1, 1, 1, 1, 1,\n",
              "        1, 1, 1, 1, 1, 1, 1, 1, 1, 1, 1, 1, 2, 2, 2, 2, 2, 2, 2, 2, 2, 2,\n",
              "        2, 2, 2, 2, 2, 2, 2, 2, 2, 2, 2, 2, 2, 2, 2, 2, 2, 2, 2, 2, 2, 2,\n",
              "        2, 2, 2, 2, 2, 2, 2, 2, 2, 2, 2, 2, 2, 2, 2, 2, 2, 2]),\n",
              " 'target_names': array(['setosa', 'versicolor', 'virginica'], dtype='<U10')}"
            ]
          },
          "metadata": {
            "tags": []
          },
          "execution_count": 2
        }
      ]
    },
    {
      "cell_type": "code",
      "metadata": {
        "id": "H1aQyBTW6CIV"
      },
      "source": [
        "iris = load_iris()"
      ],
      "execution_count": null,
      "outputs": []
    },
    {
      "cell_type": "code",
      "metadata": {
        "id": "oZiB9EG_6fD7"
      },
      "source": [
        "X = iris.data"
      ],
      "execution_count": null,
      "outputs": []
    },
    {
      "cell_type": "code",
      "metadata": {
        "id": "DfnNUgy062dW"
      },
      "source": [
        "y = iris.target"
      ],
      "execution_count": null,
      "outputs": []
    },
    {
      "cell_type": "code",
      "metadata": {
        "id": "dPuDV1vF7AN4"
      },
      "source": [
        "from sklearn.model_selection import train_test_split"
      ],
      "execution_count": null,
      "outputs": []
    },
    {
      "cell_type": "code",
      "metadata": {
        "colab": {
          "base_uri": "https://localhost:8080/"
        },
        "id": "49zwYPeR7Vcr",
        "outputId": "ca69c0bc-2483-4e4c-9dab-047f877871ef"
      },
      "source": [
        "train_test_split(X, y)"
      ],
      "execution_count": null,
      "outputs": [
        {
          "output_type": "execute_result",
          "data": {
            "text/plain": [
              "[array([[5.2, 3.5, 1.5, 0.2],\n",
              "        [6.9, 3.1, 4.9, 1.5],\n",
              "        [6.3, 2.8, 5.1, 1.5],\n",
              "        [6.8, 3.2, 5.9, 2.3],\n",
              "        [6.3, 3.4, 5.6, 2.4],\n",
              "        [5.2, 3.4, 1.4, 0.2],\n",
              "        [6.3, 2.3, 4.4, 1.3],\n",
              "        [5. , 3.2, 1.2, 0.2],\n",
              "        [6.4, 2.8, 5.6, 2.2],\n",
              "        [6.7, 3.3, 5.7, 2.5],\n",
              "        [5.8, 2.7, 3.9, 1.2],\n",
              "        [6.3, 2.7, 4.9, 1.8],\n",
              "        [4.6, 3.1, 1.5, 0.2],\n",
              "        [4.8, 3.4, 1.6, 0.2],\n",
              "        [5.1, 3.4, 1.5, 0.2],\n",
              "        [7.9, 3.8, 6.4, 2. ],\n",
              "        [7.7, 3. , 6.1, 2.3],\n",
              "        [4.9, 2.4, 3.3, 1. ],\n",
              "        [6.7, 3.3, 5.7, 2.1],\n",
              "        [4.9, 3.1, 1.5, 0.2],\n",
              "        [7. , 3.2, 4.7, 1.4],\n",
              "        [5.8, 2.7, 4.1, 1. ],\n",
              "        [6.3, 2.5, 5. , 1.9],\n",
              "        [6.8, 3. , 5.5, 2.1],\n",
              "        [5.7, 2.8, 4.1, 1.3],\n",
              "        [6.7, 3.1, 4.7, 1.5],\n",
              "        [7.2, 3.6, 6.1, 2.5],\n",
              "        [4.7, 3.2, 1.3, 0.2],\n",
              "        [6.5, 3. , 5.5, 1.8],\n",
              "        [5.6, 3. , 4.1, 1.3],\n",
              "        [5.1, 3.8, 1.9, 0.4],\n",
              "        [5. , 3.4, 1.5, 0.2],\n",
              "        [6.6, 2.9, 4.6, 1.3],\n",
              "        [5.8, 2.8, 5.1, 2.4],\n",
              "        [5.4, 3.9, 1.7, 0.4],\n",
              "        [6.2, 2.8, 4.8, 1.8],\n",
              "        [4.5, 2.3, 1.3, 0.3],\n",
              "        [5. , 3.6, 1.4, 0.2],\n",
              "        [6. , 2.9, 4.5, 1.5],\n",
              "        [4.8, 3.4, 1.9, 0.2],\n",
              "        [7.7, 2.6, 6.9, 2.3],\n",
              "        [5. , 2.3, 3.3, 1. ],\n",
              "        [4.9, 3.1, 1.5, 0.1],\n",
              "        [5.8, 4. , 1.2, 0.2],\n",
              "        [4.8, 3. , 1.4, 0.1],\n",
              "        [5.7, 2.8, 4.5, 1.3],\n",
              "        [6.1, 2.6, 5.6, 1.4],\n",
              "        [5. , 2. , 3.5, 1. ],\n",
              "        [5.4, 3.9, 1.3, 0.4],\n",
              "        [5.8, 2.6, 4. , 1.2],\n",
              "        [6.4, 2.9, 4.3, 1.3],\n",
              "        [6. , 2.7, 5.1, 1.6],\n",
              "        [5.6, 2.7, 4.2, 1.3],\n",
              "        [5.9, 3.2, 4.8, 1.8],\n",
              "        [5.7, 2.5, 5. , 2. ],\n",
              "        [4.9, 3. , 1.4, 0.2],\n",
              "        [5.1, 3.5, 1.4, 0.3],\n",
              "        [5.9, 3. , 5.1, 1.8],\n",
              "        [5.5, 2.5, 4. , 1.3],\n",
              "        [5.8, 2.7, 5.1, 1.9],\n",
              "        [7.2, 3. , 5.8, 1.6],\n",
              "        [4.4, 3.2, 1.3, 0.2],\n",
              "        [5.7, 3. , 4.2, 1.2],\n",
              "        [6.3, 3.3, 4.7, 1.6],\n",
              "        [4.9, 2.5, 4.5, 1.7],\n",
              "        [6.2, 2.9, 4.3, 1.3],\n",
              "        [5. , 3. , 1.6, 0.2],\n",
              "        [5. , 3.5, 1.6, 0.6],\n",
              "        [5.1, 3.3, 1.7, 0.5],\n",
              "        [5.2, 2.7, 3.9, 1.4],\n",
              "        [4.6, 3.2, 1.4, 0.2],\n",
              "        [4.7, 3.2, 1.6, 0.2],\n",
              "        [7.2, 3.2, 6. , 1.8],\n",
              "        [6.7, 3.1, 5.6, 2.4],\n",
              "        [6. , 2.2, 5. , 1.5],\n",
              "        [4.8, 3.1, 1.6, 0.2],\n",
              "        [5.6, 2.9, 3.6, 1.3],\n",
              "        [5.6, 2.5, 3.9, 1.1],\n",
              "        [6.7, 3. , 5. , 1.7],\n",
              "        [6.8, 2.8, 4.8, 1.4],\n",
              "        [5.1, 2.5, 3. , 1.1],\n",
              "        [5.9, 3. , 4.2, 1.5],\n",
              "        [5.3, 3.7, 1.5, 0.2],\n",
              "        [5.2, 4.1, 1.5, 0.1],\n",
              "        [6. , 2.2, 4. , 1. ],\n",
              "        [4.9, 3.6, 1.4, 0.1],\n",
              "        [5.8, 2.7, 5.1, 1.9],\n",
              "        [5.7, 4.4, 1.5, 0.4],\n",
              "        [5.7, 2.6, 3.5, 1. ],\n",
              "        [5. , 3.5, 1.3, 0.3],\n",
              "        [6.4, 2.8, 5.6, 2.1],\n",
              "        [6.2, 3.4, 5.4, 2.3],\n",
              "        [5.5, 3.5, 1.3, 0.2],\n",
              "        [6.5, 2.8, 4.6, 1.5],\n",
              "        [5.6, 2.8, 4.9, 2. ],\n",
              "        [6. , 3. , 4.8, 1.8],\n",
              "        [4.8, 3. , 1.4, 0.3],\n",
              "        [6. , 3.4, 4.5, 1.6],\n",
              "        [5.5, 4.2, 1.4, 0.2],\n",
              "        [4.4, 2.9, 1.4, 0.2],\n",
              "        [5.1, 3.8, 1.6, 0.2],\n",
              "        [6.6, 3. , 4.4, 1.4],\n",
              "        [5.6, 3. , 4.5, 1.5],\n",
              "        [5.5, 2.3, 4. , 1.3],\n",
              "        [6.9, 3.2, 5.7, 2.3],\n",
              "        [5.5, 2.6, 4.4, 1.2],\n",
              "        [6.1, 3. , 4.6, 1.4],\n",
              "        [5.4, 3. , 4.5, 1.5],\n",
              "        [5.7, 2.9, 4.2, 1.3],\n",
              "        [5. , 3.4, 1.6, 0.4],\n",
              "        [5. , 3.3, 1.4, 0.2],\n",
              "        [6.4, 3.1, 5.5, 1.8]]), array([[6.7, 3.1, 4.4, 1.4],\n",
              "        [6.1, 2.8, 4.7, 1.2],\n",
              "        [6.3, 2.9, 5.6, 1.8],\n",
              "        [4.3, 3. , 1.1, 0.1],\n",
              "        [5.4, 3.7, 1.5, 0.2],\n",
              "        [6.9, 3.1, 5.1, 2.3],\n",
              "        [6.4, 3.2, 4.5, 1.5],\n",
              "        [6.7, 2.5, 5.8, 1.8],\n",
              "        [7.6, 3. , 6.6, 2.1],\n",
              "        [7.1, 3. , 5.9, 2.1],\n",
              "        [6.9, 3.1, 5.4, 2.1],\n",
              "        [4.6, 3.6, 1. , 0.2],\n",
              "        [5.1, 3.8, 1.5, 0.3],\n",
              "        [5.5, 2.4, 3.7, 1. ],\n",
              "        [7.3, 2.9, 6.3, 1.8],\n",
              "        [6.3, 2.5, 4.9, 1.5],\n",
              "        [6.4, 2.7, 5.3, 1.9],\n",
              "        [6.5, 3.2, 5.1, 2. ],\n",
              "        [4.6, 3.4, 1.4, 0.3],\n",
              "        [5.4, 3.4, 1.5, 0.4],\n",
              "        [4.4, 3. , 1.3, 0.2],\n",
              "        [6.4, 3.2, 5.3, 2.3],\n",
              "        [7.4, 2.8, 6.1, 1.9],\n",
              "        [6.1, 2.9, 4.7, 1.4],\n",
              "        [5.4, 3.4, 1.7, 0.2],\n",
              "        [7.7, 2.8, 6.7, 2. ],\n",
              "        [6.1, 2.8, 4. , 1.3],\n",
              "        [7.7, 3.8, 6.7, 2.2],\n",
              "        [5.5, 2.4, 3.8, 1.1],\n",
              "        [5.7, 3.8, 1.7, 0.3],\n",
              "        [6.7, 3. , 5.2, 2.3],\n",
              "        [6.5, 3. , 5.8, 2.2],\n",
              "        [5.1, 3.5, 1.4, 0.2],\n",
              "        [6.2, 2.2, 4.5, 1.5],\n",
              "        [6.1, 3. , 4.9, 1.8],\n",
              "        [6.3, 3.3, 6. , 2.5],\n",
              "        [6.5, 3. , 5.2, 2. ],\n",
              "        [5.1, 3.7, 1.5, 0.4]]), array([0, 1, 2, 2, 2, 0, 1, 0, 2, 2, 1, 2, 0, 0, 0, 2, 2, 1, 2, 0, 1, 1,\n",
              "        2, 2, 1, 1, 2, 0, 2, 1, 0, 0, 1, 2, 0, 2, 0, 0, 1, 0, 2, 1, 0, 0,\n",
              "        0, 1, 2, 1, 0, 1, 1, 1, 1, 1, 2, 0, 0, 2, 1, 2, 2, 0, 1, 1, 2, 1,\n",
              "        0, 0, 0, 1, 0, 0, 2, 2, 2, 0, 1, 1, 1, 1, 1, 1, 0, 0, 1, 0, 2, 0,\n",
              "        1, 0, 2, 2, 0, 1, 2, 2, 0, 1, 0, 0, 0, 1, 1, 1, 2, 1, 1, 1, 1, 0,\n",
              "        0, 2]), array([1, 1, 2, 0, 0, 2, 1, 2, 2, 2, 2, 0, 0, 1, 2, 1, 2, 2, 0, 0, 0, 2,\n",
              "        2, 1, 0, 2, 1, 2, 1, 0, 2, 2, 0, 1, 2, 2, 2, 0])]"
            ]
          },
          "metadata": {
            "tags": []
          },
          "execution_count": 7
        }
      ]
    },
    {
      "cell_type": "code",
      "metadata": {
        "colab": {
          "base_uri": "https://localhost:8080/"
        },
        "id": "2v-9PmOv7WYX",
        "outputId": "14f8cd57-e222-4253-f81e-91624798c942"
      },
      "source": [
        "train_test_split(X, y, test_size = 0.2)"
      ],
      "execution_count": null,
      "outputs": [
        {
          "output_type": "execute_result",
          "data": {
            "text/plain": [
              "[array([[6.6, 3. , 4.4, 1.4],\n",
              "        [5.4, 3. , 4.5, 1.5],\n",
              "        [5.2, 2.7, 3.9, 1.4],\n",
              "        [5. , 3.5, 1.3, 0.3],\n",
              "        [5.4, 3.4, 1.7, 0.2],\n",
              "        [5.1, 3.8, 1.5, 0.3],\n",
              "        [5.7, 2.8, 4.1, 1.3],\n",
              "        [6.5, 3.2, 5.1, 2. ],\n",
              "        [5.7, 4.4, 1.5, 0.4],\n",
              "        [6.1, 2.6, 5.6, 1.4],\n",
              "        [6.5, 3. , 5.8, 2.2],\n",
              "        [6.3, 2.5, 5. , 1.9],\n",
              "        [4.9, 3.6, 1.4, 0.1],\n",
              "        [6.2, 2.8, 4.8, 1.8],\n",
              "        [7.7, 2.8, 6.7, 2. ],\n",
              "        [6.9, 3.1, 5.4, 2.1],\n",
              "        [5.1, 3.7, 1.5, 0.4],\n",
              "        [6.3, 2.9, 5.6, 1.8],\n",
              "        [7.7, 3.8, 6.7, 2.2],\n",
              "        [6.5, 2.8, 4.6, 1.5],\n",
              "        [6.5, 3. , 5.2, 2. ],\n",
              "        [5.7, 2.8, 4.5, 1.3],\n",
              "        [5.6, 2.9, 3.6, 1.3],\n",
              "        [6.4, 2.9, 4.3, 1.3],\n",
              "        [5.2, 3.4, 1.4, 0.2],\n",
              "        [5.5, 4.2, 1.4, 0.2],\n",
              "        [6.9, 3.1, 5.1, 2.3],\n",
              "        [5.1, 2.5, 3. , 1.1],\n",
              "        [7. , 3.2, 4.7, 1.4],\n",
              "        [4.9, 2.5, 4.5, 1.7],\n",
              "        [6.4, 2.7, 5.3, 1.9],\n",
              "        [5.9, 3.2, 4.8, 1.8],\n",
              "        [4.9, 3. , 1.4, 0.2],\n",
              "        [7.2, 3. , 5.8, 1.6],\n",
              "        [5.4, 3.7, 1.5, 0.2],\n",
              "        [4.9, 3.1, 1.5, 0.1],\n",
              "        [5.7, 3.8, 1.7, 0.3],\n",
              "        [6. , 2.9, 4.5, 1.5],\n",
              "        [5.8, 2.6, 4. , 1.2],\n",
              "        [6.3, 2.5, 4.9, 1.5],\n",
              "        [5. , 3. , 1.6, 0.2],\n",
              "        [6.5, 3. , 5.5, 1.8],\n",
              "        [5.4, 3.9, 1.3, 0.4],\n",
              "        [5. , 3.4, 1.6, 0.4],\n",
              "        [7.6, 3. , 6.6, 2.1],\n",
              "        [4.4, 2.9, 1.4, 0.2],\n",
              "        [6.4, 3.2, 5.3, 2.3],\n",
              "        [6. , 3.4, 4.5, 1.6],\n",
              "        [5.1, 3.8, 1.6, 0.2],\n",
              "        [6. , 3. , 4.8, 1.8],\n",
              "        [6.4, 2.8, 5.6, 2.1],\n",
              "        [5.6, 2.7, 4.2, 1.3],\n",
              "        [4.6, 3.1, 1.5, 0.2],\n",
              "        [5.5, 3.5, 1.3, 0.2],\n",
              "        [7.4, 2.8, 6.1, 1.9],\n",
              "        [6.1, 2.9, 4.7, 1.4],\n",
              "        [6.8, 2.8, 4.8, 1.4],\n",
              "        [4.8, 3. , 1.4, 0.3],\n",
              "        [7.7, 2.6, 6.9, 2.3],\n",
              "        [6.3, 2.3, 4.4, 1.3],\n",
              "        [5.7, 2.5, 5. , 2. ],\n",
              "        [6.8, 3. , 5.5, 2.1],\n",
              "        [5. , 2. , 3.5, 1. ],\n",
              "        [4.6, 3.6, 1. , 0.2],\n",
              "        [5.6, 3. , 4.5, 1.5],\n",
              "        [5.8, 2.7, 5.1, 1.9],\n",
              "        [5.6, 3. , 4.1, 1.3],\n",
              "        [5.1, 3.8, 1.9, 0.4],\n",
              "        [6.1, 2.8, 4.7, 1.2],\n",
              "        [5.9, 3. , 5.1, 1.8],\n",
              "        [6.1, 3. , 4.6, 1.4],\n",
              "        [6.7, 3.3, 5.7, 2.1],\n",
              "        [5.2, 4.1, 1.5, 0.1],\n",
              "        [6.1, 3. , 4.9, 1.8],\n",
              "        [6. , 2.2, 5. , 1.5],\n",
              "        [4.8, 3.1, 1.6, 0.2],\n",
              "        [5.7, 3. , 4.2, 1.2],\n",
              "        [6.7, 3.1, 5.6, 2.4],\n",
              "        [6.2, 2.2, 4.5, 1.5],\n",
              "        [5. , 3.4, 1.5, 0.2],\n",
              "        [5.8, 2.7, 5.1, 1.9],\n",
              "        [5. , 3.2, 1.2, 0.2],\n",
              "        [6.3, 2.7, 4.9, 1.8],\n",
              "        [6.7, 3. , 5. , 1.7],\n",
              "        [5.5, 2.3, 4. , 1.3],\n",
              "        [6.2, 2.9, 4.3, 1.3],\n",
              "        [6.7, 3.1, 4.7, 1.5],\n",
              "        [5.2, 3.5, 1.5, 0.2],\n",
              "        [5.8, 4. , 1.2, 0.2],\n",
              "        [6. , 2.2, 4. , 1. ],\n",
              "        [6.9, 3.2, 5.7, 2.3],\n",
              "        [4.6, 3.4, 1.4, 0.3],\n",
              "        [6.4, 2.8, 5.6, 2.2],\n",
              "        [5.5, 2.4, 3.7, 1. ],\n",
              "        [4.5, 2.3, 1.3, 0.3],\n",
              "        [5.6, 2.5, 3.9, 1.1],\n",
              "        [5.9, 3. , 4.2, 1.5],\n",
              "        [6.3, 3.3, 6. , 2.5],\n",
              "        [4.8, 3.4, 1.9, 0.2],\n",
              "        [5.7, 2.6, 3.5, 1. ],\n",
              "        [7.1, 3. , 5.9, 2.1],\n",
              "        [6.7, 2.5, 5.8, 1.8],\n",
              "        [4.9, 3.1, 1.5, 0.2],\n",
              "        [5.6, 2.8, 4.9, 2. ],\n",
              "        [6.9, 3.1, 4.9, 1.5],\n",
              "        [5.8, 2.8, 5.1, 2.4],\n",
              "        [5.1, 3.4, 1.5, 0.2],\n",
              "        [5.8, 2.7, 4.1, 1. ],\n",
              "        [6.3, 3.4, 5.6, 2.4],\n",
              "        [4.7, 3.2, 1.6, 0.2],\n",
              "        [4.4, 3. , 1.3, 0.2],\n",
              "        [5.4, 3.4, 1.5, 0.4],\n",
              "        [5.1, 3.5, 1.4, 0.3],\n",
              "        [6.3, 3.3, 4.7, 1.6],\n",
              "        [4.6, 3.2, 1.4, 0.2],\n",
              "        [7.3, 2.9, 6.3, 1.8],\n",
              "        [6.2, 3.4, 5.4, 2.3],\n",
              "        [5.7, 2.9, 4.2, 1.3],\n",
              "        [4.7, 3.2, 1.3, 0.2],\n",
              "        [7.7, 3. , 6.1, 2.3]]), array([[6.4, 3.2, 4.5, 1.5],\n",
              "        [5.1, 3.5, 1.4, 0.2],\n",
              "        [6.1, 2.8, 4. , 1.3],\n",
              "        [6.4, 3.1, 5.5, 1.8],\n",
              "        [4.3, 3. , 1.1, 0.1],\n",
              "        [6. , 2.7, 5.1, 1.6],\n",
              "        [5.5, 2.6, 4.4, 1.2],\n",
              "        [4.4, 3.2, 1.3, 0.2],\n",
              "        [4.8, 3.4, 1.6, 0.2],\n",
              "        [6.6, 2.9, 4.6, 1.3],\n",
              "        [5.8, 2.7, 3.9, 1.2],\n",
              "        [7.2, 3.2, 6. , 1.8],\n",
              "        [6.7, 3.1, 4.4, 1.4],\n",
              "        [6.8, 3.2, 5.9, 2.3],\n",
              "        [7.9, 3.8, 6.4, 2. ],\n",
              "        [5.5, 2.5, 4. , 1.3],\n",
              "        [4.8, 3. , 1.4, 0.1],\n",
              "        [5. , 3.3, 1.4, 0.2],\n",
              "        [6.7, 3.3, 5.7, 2.5],\n",
              "        [4.9, 2.4, 3.3, 1. ],\n",
              "        [5.1, 3.3, 1.7, 0.5],\n",
              "        [6.3, 2.8, 5.1, 1.5],\n",
              "        [5.5, 2.4, 3.8, 1.1],\n",
              "        [5.4, 3.9, 1.7, 0.4],\n",
              "        [6.7, 3. , 5.2, 2.3],\n",
              "        [5. , 3.6, 1.4, 0.2],\n",
              "        [5. , 3.5, 1.6, 0.6],\n",
              "        [7.2, 3.6, 6.1, 2.5],\n",
              "        [5.3, 3.7, 1.5, 0.2],\n",
              "        [5. , 2.3, 3.3, 1. ]]), array([1, 1, 1, 0, 0, 0, 1, 2, 0, 2, 2, 2, 0, 2, 2, 2, 0, 2, 2, 1, 2, 1,\n",
              "        1, 1, 0, 0, 2, 1, 1, 2, 2, 1, 0, 2, 0, 0, 0, 1, 1, 1, 0, 2, 0, 0,\n",
              "        2, 0, 2, 1, 0, 2, 2, 1, 0, 0, 2, 1, 1, 0, 2, 1, 2, 2, 1, 0, 1, 2,\n",
              "        1, 0, 1, 2, 1, 2, 0, 2, 2, 0, 1, 2, 1, 0, 2, 0, 2, 1, 1, 1, 1, 0,\n",
              "        0, 1, 2, 0, 2, 1, 0, 1, 1, 2, 0, 1, 2, 2, 0, 2, 1, 2, 0, 1, 2, 0,\n",
              "        0, 0, 0, 1, 0, 2, 2, 1, 0, 2]), array([1, 0, 1, 2, 0, 1, 1, 0, 0, 1, 1, 2, 1, 2, 2, 1, 0, 0, 2, 1, 0, 2,\n",
              "        1, 0, 2, 0, 0, 2, 0, 1])]"
            ]
          },
          "metadata": {
            "tags": []
          },
          "execution_count": 8
        }
      ]
    },
    {
      "cell_type": "code",
      "metadata": {
        "id": "nIotY1IM85na"
      },
      "source": [
        "X_train, X_test, y_train, y_test = train_test_split(X, y, test_size = 0.2)"
      ],
      "execution_count": null,
      "outputs": []
    },
    {
      "cell_type": "code",
      "metadata": {
        "id": "FWA6aRMO8-Xv"
      },
      "source": [
        "from sklearn.ensemble import RandomForestClassifier"
      ],
      "execution_count": null,
      "outputs": []
    },
    {
      "cell_type": "code",
      "metadata": {
        "colab": {
          "base_uri": "https://localhost:8080/"
        },
        "id": "fT7Khmz-9CxI",
        "outputId": "7eabfa1e-44c6-4709-bbeb-906cd36075de"
      },
      "source": [
        "RandomForestClassifier()"
      ],
      "execution_count": null,
      "outputs": [
        {
          "output_type": "execute_result",
          "data": {
            "text/plain": [
              "RandomForestClassifier(bootstrap=True, ccp_alpha=0.0, class_weight=None,\n",
              "                       criterion='gini', max_depth=None, max_features='auto',\n",
              "                       max_leaf_nodes=None, max_samples=None,\n",
              "                       min_impurity_decrease=0.0, min_impurity_split=None,\n",
              "                       min_samples_leaf=1, min_samples_split=2,\n",
              "                       min_weight_fraction_leaf=0.0, n_estimators=100,\n",
              "                       n_jobs=None, oob_score=False, random_state=None,\n",
              "                       verbose=0, warm_start=False)"
            ]
          },
          "metadata": {
            "tags": []
          },
          "execution_count": 11
        }
      ]
    },
    {
      "cell_type": "code",
      "metadata": {
        "id": "JXlDVeBf9Eg6"
      },
      "source": [
        "clf = RandomForestClassifier()"
      ],
      "execution_count": null,
      "outputs": []
    },
    {
      "cell_type": "code",
      "metadata": {
        "colab": {
          "base_uri": "https://localhost:8080/"
        },
        "id": "pIOQkb7I-FJD",
        "outputId": "f00a9bea-7700-40c8-f53f-3a696be0d3cc"
      },
      "source": [
        "clf.fit(X_train, y_train)"
      ],
      "execution_count": null,
      "outputs": [
        {
          "output_type": "execute_result",
          "data": {
            "text/plain": [
              "RandomForestClassifier(bootstrap=True, ccp_alpha=0.0, class_weight=None,\n",
              "                       criterion='gini', max_depth=None, max_features='auto',\n",
              "                       max_leaf_nodes=None, max_samples=None,\n",
              "                       min_impurity_decrease=0.0, min_impurity_split=None,\n",
              "                       min_samples_leaf=1, min_samples_split=2,\n",
              "                       min_weight_fraction_leaf=0.0, n_estimators=100,\n",
              "                       n_jobs=None, oob_score=False, random_state=None,\n",
              "                       verbose=0, warm_start=False)"
            ]
          },
          "metadata": {
            "tags": []
          },
          "execution_count": 13
        }
      ]
    },
    {
      "cell_type": "code",
      "metadata": {
        "colab": {
          "base_uri": "https://localhost:8080/"
        },
        "id": "vNjISV1k-NzW",
        "outputId": "b71da9e5-a3ef-43a9-abdd-566b387967e7"
      },
      "source": [
        "clf.predict(X_test)"
      ],
      "execution_count": null,
      "outputs": [
        {
          "output_type": "execute_result",
          "data": {
            "text/plain": [
              "array([1, 1, 2, 0, 2, 0, 0, 1, 1, 0, 2, 1, 2, 1, 2, 1, 2, 0, 1, 2, 2, 0,\n",
              "       1, 1, 1, 1, 0, 0, 1, 2])"
            ]
          },
          "metadata": {
            "tags": []
          },
          "execution_count": 14
        }
      ]
    },
    {
      "cell_type": "code",
      "metadata": {
        "id": "L6vhTadf-ayz"
      },
      "source": [
        "prediction = clf.predict(X_test)\r\n"
      ],
      "execution_count": null,
      "outputs": []
    },
    {
      "cell_type": "code",
      "metadata": {
        "colab": {
          "base_uri": "https://localhost:8080/"
        },
        "id": "16IBCnpp-eIH",
        "outputId": "52e9c37b-c29c-4676-ef34-c3939bac237b"
      },
      "source": [
        "prediction == y_test"
      ],
      "execution_count": null,
      "outputs": [
        {
          "output_type": "execute_result",
          "data": {
            "text/plain": [
              "array([False, False,  True,  True,  True,  True,  True, False,  True,\n",
              "        True,  True,  True,  True,  True,  True,  True,  True,  True,\n",
              "        True,  True,  True,  True,  True,  True,  True,  True,  True,\n",
              "        True,  True,  True])"
            ]
          },
          "metadata": {
            "tags": []
          },
          "execution_count": 16
        }
      ]
    },
    {
      "cell_type": "code",
      "metadata": {
        "id": "gFKgTI7A-f2P"
      },
      "source": [
        "from sklearn.metrics import accuracy_score"
      ],
      "execution_count": null,
      "outputs": []
    },
    {
      "cell_type": "code",
      "metadata": {
        "colab": {
          "base_uri": "https://localhost:8080/"
        },
        "id": "QRd2Ekjp-iB2",
        "outputId": "35baeeb8-ec94-4c00-af3f-1ebd97389d45"
      },
      "source": [
        "accuracy_score(y_test, prediction)"
      ],
      "execution_count": null,
      "outputs": [
        {
          "output_type": "execute_result",
          "data": {
            "text/plain": [
              "0.9"
            ]
          },
          "metadata": {
            "tags": []
          },
          "execution_count": 18
        }
      ]
    },
    {
      "cell_type": "code",
      "metadata": {
        "id": "Jjmlo3t_-jSi"
      },
      "source": [
        "from sklearn import tree"
      ],
      "execution_count": null,
      "outputs": []
    },
    {
      "cell_type": "code",
      "metadata": {
        "colab": {
          "base_uri": "https://localhost:8080/",
          "height": 204
        },
        "id": "FGMlOR9L-lDj",
        "outputId": "eefbd51c-eff3-438c-cb4a-8be2d204f369"
      },
      "source": [
        "tree.export_graphviz(\r\n",
        "      clf.estimators_[0]\r\n",
        ")"
      ],
      "execution_count": null,
      "outputs": [
        {
          "output_type": "execute_result",
          "data": {
            "application/vnd.google.colaboratory.intrinsic+json": {
              "type": "string"
            },
            "text/plain": [
              "'digraph Tree {\\nnode [shape=box] ;\\n0 [label=\"X[3] <= 0.7\\\\ngini = 0.666\\\\nsamples = 75\\\\nvalue = [42, 41, 37]\"] ;\\n1 [label=\"gini = 0.0\\\\nsamples = 25\\\\nvalue = [42, 0, 0]\"] ;\\n0 -> 1 [labeldistance=2.5, labelangle=45, headlabel=\"True\"] ;\\n2 [label=\"X[3] <= 1.75\\\\ngini = 0.499\\\\nsamples = 50\\\\nvalue = [0, 41, 37]\"] ;\\n0 -> 2 [labeldistance=2.5, labelangle=-45, headlabel=\"False\"] ;\\n3 [label=\"gini = 0.0\\\\nsamples = 26\\\\nvalue = [0, 40, 0]\"] ;\\n2 -> 3 ;\\n4 [label=\"X[3] <= 1.85\\\\ngini = 0.051\\\\nsamples = 24\\\\nvalue = [0, 1, 37]\"] ;\\n2 -> 4 ;\\n5 [label=\"X[0] <= 6.1\\\\ngini = 0.219\\\\nsamples = 5\\\\nvalue = [0, 1, 7]\"] ;\\n4 -> 5 ;\\n6 [label=\"gini = 0.0\\\\nsamples = 1\\\\nvalue = [0, 1, 0]\"] ;\\n5 -> 6 ;\\n7 [label=\"gini = 0.0\\\\nsamples = 4\\\\nvalue = [0, 0, 7]\"] ;\\n5 -> 7 ;\\n8 [label=\"gini = 0.0\\\\nsamples = 19\\\\nvalue = [0, 0, 30]\"] ;\\n4 -> 8 ;\\n}'"
            ]
          },
          "metadata": {
            "tags": []
          },
          "execution_count": 20
        }
      ]
    },
    {
      "cell_type": "code",
      "metadata": {
        "id": "D_K0aHGG-mT9"
      },
      "source": [
        "import pydotplus"
      ],
      "execution_count": null,
      "outputs": []
    },
    {
      "cell_type": "code",
      "metadata": {
        "colab": {
          "base_uri": "https://localhost:8080/"
        },
        "id": "rgXJ7Ksn-oZU",
        "outputId": "f1e6a40a-1e21-4980-df28-c3883e803e08"
      },
      "source": [
        "pydotplus.graph_from_dot_data( \r\n",
        "    \r\n",
        "    tree.export_graphviz(\r\n",
        "      clf.estimators_[0]\r\n",
        "     )\r\n",
        "    \r\n",
        ")"
      ],
      "execution_count": null,
      "outputs": [
        {
          "output_type": "execute_result",
          "data": {
            "text/plain": [
              "<pydotplus.graphviz.Dot at 0x7f608ab4be80>"
            ]
          },
          "metadata": {
            "tags": []
          },
          "execution_count": 22
        }
      ]
    },
    {
      "cell_type": "code",
      "metadata": {
        "colab": {
          "base_uri": "https://localhost:8080/"
        },
        "id": "Yp-XSuFL-p93",
        "outputId": "d199db91-66f9-4077-9f83-1613297b770a"
      },
      "source": [
        "pydotplus.graph_from_dot_data( \r\n",
        "    \r\n",
        "    tree.export_graphviz(\r\n",
        "      clf.estimators_[0]\r\n",
        "     )\r\n",
        "    \r\n",
        ").write_pdf(\"random_forest_decision_tree01.pdf\")"
      ],
      "execution_count": null,
      "outputs": [
        {
          "output_type": "execute_result",
          "data": {
            "text/plain": [
              "True"
            ]
          },
          "metadata": {
            "tags": []
          },
          "execution_count": 23
        }
      ]
    },
    {
      "cell_type": "code",
      "metadata": {
        "colab": {
          "base_uri": "https://localhost:8080/"
        },
        "id": "siJI9GKa-t9f",
        "outputId": "f2fa1a55-e1f4-4399-ea74-7e106d11cd9a"
      },
      "source": [
        "pydotplus.graph_from_dot_data( \r\n",
        "    \r\n",
        "    tree.export_graphviz(\r\n",
        "      clf.estimators_[0],\r\n",
        "      feature_names = [\"sepal length\",\"sepal width\",\"petal length\",\"petal width\"]\r\n",
        "     )\r\n",
        "    \r\n",
        ").write_pdf(\"random_forest_decision_tree01.pdf\")"
      ],
      "execution_count": null,
      "outputs": [
        {
          "output_type": "execute_result",
          "data": {
            "text/plain": [
              "True"
            ]
          },
          "metadata": {
            "tags": []
          },
          "execution_count": 24
        }
      ]
    },
    {
      "cell_type": "code",
      "metadata": {
        "colab": {
          "base_uri": "https://localhost:8080/"
        },
        "id": "Gv1gT7w6-wUi",
        "outputId": "3668b0b5-a65b-42fb-8ced-b0db11fa5048"
      },
      "source": [
        "pydotplus.graph_from_dot_data( \r\n",
        "    \r\n",
        "    tree.export_graphviz(\r\n",
        "      clf.estimators_[0],\r\n",
        "      feature_names = [\"sepal length\",\"sepal width\",\"petal length\",\"petal width\"],\r\n",
        "      class_names=[\"setosa\", \"versicolor\",\"virsinica\"]\r\n",
        "     )\r\n",
        "    \r\n",
        ").write_pdf(\"random_forest_decision_tree01.pdf\")"
      ],
      "execution_count": null,
      "outputs": [
        {
          "output_type": "execute_result",
          "data": {
            "text/plain": [
              "True"
            ]
          },
          "metadata": {
            "tags": []
          },
          "execution_count": 25
        }
      ]
    },
    {
      "cell_type": "code",
      "metadata": {
        "colab": {
          "base_uri": "https://localhost:8080/"
        },
        "id": "nSYkvi1a-x8B",
        "outputId": "bc98b6ab-9c9f-4976-d6b2-50f42d535c41"
      },
      "source": [
        "for i in range(100):\r\n",
        "  message=\"random_forest_decision_tree{}.pdf 에 {}번째 tree 출력할 것임!!\".format(i+1 , i)\r\n",
        "  print(message)"
      ],
      "execution_count": null,
      "outputs": [
        {
          "output_type": "stream",
          "text": [
            "random_forest_decision_tree1.pdf 에 0번째 tree 출력할 것임!!\n",
            "random_forest_decision_tree2.pdf 에 1번째 tree 출력할 것임!!\n",
            "random_forest_decision_tree3.pdf 에 2번째 tree 출력할 것임!!\n",
            "random_forest_decision_tree4.pdf 에 3번째 tree 출력할 것임!!\n",
            "random_forest_decision_tree5.pdf 에 4번째 tree 출력할 것임!!\n",
            "random_forest_decision_tree6.pdf 에 5번째 tree 출력할 것임!!\n",
            "random_forest_decision_tree7.pdf 에 6번째 tree 출력할 것임!!\n",
            "random_forest_decision_tree8.pdf 에 7번째 tree 출력할 것임!!\n",
            "random_forest_decision_tree9.pdf 에 8번째 tree 출력할 것임!!\n",
            "random_forest_decision_tree10.pdf 에 9번째 tree 출력할 것임!!\n",
            "random_forest_decision_tree11.pdf 에 10번째 tree 출력할 것임!!\n",
            "random_forest_decision_tree12.pdf 에 11번째 tree 출력할 것임!!\n",
            "random_forest_decision_tree13.pdf 에 12번째 tree 출력할 것임!!\n",
            "random_forest_decision_tree14.pdf 에 13번째 tree 출력할 것임!!\n",
            "random_forest_decision_tree15.pdf 에 14번째 tree 출력할 것임!!\n",
            "random_forest_decision_tree16.pdf 에 15번째 tree 출력할 것임!!\n",
            "random_forest_decision_tree17.pdf 에 16번째 tree 출력할 것임!!\n",
            "random_forest_decision_tree18.pdf 에 17번째 tree 출력할 것임!!\n",
            "random_forest_decision_tree19.pdf 에 18번째 tree 출력할 것임!!\n",
            "random_forest_decision_tree20.pdf 에 19번째 tree 출력할 것임!!\n",
            "random_forest_decision_tree21.pdf 에 20번째 tree 출력할 것임!!\n",
            "random_forest_decision_tree22.pdf 에 21번째 tree 출력할 것임!!\n",
            "random_forest_decision_tree23.pdf 에 22번째 tree 출력할 것임!!\n",
            "random_forest_decision_tree24.pdf 에 23번째 tree 출력할 것임!!\n",
            "random_forest_decision_tree25.pdf 에 24번째 tree 출력할 것임!!\n",
            "random_forest_decision_tree26.pdf 에 25번째 tree 출력할 것임!!\n",
            "random_forest_decision_tree27.pdf 에 26번째 tree 출력할 것임!!\n",
            "random_forest_decision_tree28.pdf 에 27번째 tree 출력할 것임!!\n",
            "random_forest_decision_tree29.pdf 에 28번째 tree 출력할 것임!!\n",
            "random_forest_decision_tree30.pdf 에 29번째 tree 출력할 것임!!\n",
            "random_forest_decision_tree31.pdf 에 30번째 tree 출력할 것임!!\n",
            "random_forest_decision_tree32.pdf 에 31번째 tree 출력할 것임!!\n",
            "random_forest_decision_tree33.pdf 에 32번째 tree 출력할 것임!!\n",
            "random_forest_decision_tree34.pdf 에 33번째 tree 출력할 것임!!\n",
            "random_forest_decision_tree35.pdf 에 34번째 tree 출력할 것임!!\n",
            "random_forest_decision_tree36.pdf 에 35번째 tree 출력할 것임!!\n",
            "random_forest_decision_tree37.pdf 에 36번째 tree 출력할 것임!!\n",
            "random_forest_decision_tree38.pdf 에 37번째 tree 출력할 것임!!\n",
            "random_forest_decision_tree39.pdf 에 38번째 tree 출력할 것임!!\n",
            "random_forest_decision_tree40.pdf 에 39번째 tree 출력할 것임!!\n",
            "random_forest_decision_tree41.pdf 에 40번째 tree 출력할 것임!!\n",
            "random_forest_decision_tree42.pdf 에 41번째 tree 출력할 것임!!\n",
            "random_forest_decision_tree43.pdf 에 42번째 tree 출력할 것임!!\n",
            "random_forest_decision_tree44.pdf 에 43번째 tree 출력할 것임!!\n",
            "random_forest_decision_tree45.pdf 에 44번째 tree 출력할 것임!!\n",
            "random_forest_decision_tree46.pdf 에 45번째 tree 출력할 것임!!\n",
            "random_forest_decision_tree47.pdf 에 46번째 tree 출력할 것임!!\n",
            "random_forest_decision_tree48.pdf 에 47번째 tree 출력할 것임!!\n",
            "random_forest_decision_tree49.pdf 에 48번째 tree 출력할 것임!!\n",
            "random_forest_decision_tree50.pdf 에 49번째 tree 출력할 것임!!\n",
            "random_forest_decision_tree51.pdf 에 50번째 tree 출력할 것임!!\n",
            "random_forest_decision_tree52.pdf 에 51번째 tree 출력할 것임!!\n",
            "random_forest_decision_tree53.pdf 에 52번째 tree 출력할 것임!!\n",
            "random_forest_decision_tree54.pdf 에 53번째 tree 출력할 것임!!\n",
            "random_forest_decision_tree55.pdf 에 54번째 tree 출력할 것임!!\n",
            "random_forest_decision_tree56.pdf 에 55번째 tree 출력할 것임!!\n",
            "random_forest_decision_tree57.pdf 에 56번째 tree 출력할 것임!!\n",
            "random_forest_decision_tree58.pdf 에 57번째 tree 출력할 것임!!\n",
            "random_forest_decision_tree59.pdf 에 58번째 tree 출력할 것임!!\n",
            "random_forest_decision_tree60.pdf 에 59번째 tree 출력할 것임!!\n",
            "random_forest_decision_tree61.pdf 에 60번째 tree 출력할 것임!!\n",
            "random_forest_decision_tree62.pdf 에 61번째 tree 출력할 것임!!\n",
            "random_forest_decision_tree63.pdf 에 62번째 tree 출력할 것임!!\n",
            "random_forest_decision_tree64.pdf 에 63번째 tree 출력할 것임!!\n",
            "random_forest_decision_tree65.pdf 에 64번째 tree 출력할 것임!!\n",
            "random_forest_decision_tree66.pdf 에 65번째 tree 출력할 것임!!\n",
            "random_forest_decision_tree67.pdf 에 66번째 tree 출력할 것임!!\n",
            "random_forest_decision_tree68.pdf 에 67번째 tree 출력할 것임!!\n",
            "random_forest_decision_tree69.pdf 에 68번째 tree 출력할 것임!!\n",
            "random_forest_decision_tree70.pdf 에 69번째 tree 출력할 것임!!\n",
            "random_forest_decision_tree71.pdf 에 70번째 tree 출력할 것임!!\n",
            "random_forest_decision_tree72.pdf 에 71번째 tree 출력할 것임!!\n",
            "random_forest_decision_tree73.pdf 에 72번째 tree 출력할 것임!!\n",
            "random_forest_decision_tree74.pdf 에 73번째 tree 출력할 것임!!\n",
            "random_forest_decision_tree75.pdf 에 74번째 tree 출력할 것임!!\n",
            "random_forest_decision_tree76.pdf 에 75번째 tree 출력할 것임!!\n",
            "random_forest_decision_tree77.pdf 에 76번째 tree 출력할 것임!!\n",
            "random_forest_decision_tree78.pdf 에 77번째 tree 출력할 것임!!\n",
            "random_forest_decision_tree79.pdf 에 78번째 tree 출력할 것임!!\n",
            "random_forest_decision_tree80.pdf 에 79번째 tree 출력할 것임!!\n",
            "random_forest_decision_tree81.pdf 에 80번째 tree 출력할 것임!!\n",
            "random_forest_decision_tree82.pdf 에 81번째 tree 출력할 것임!!\n",
            "random_forest_decision_tree83.pdf 에 82번째 tree 출력할 것임!!\n",
            "random_forest_decision_tree84.pdf 에 83번째 tree 출력할 것임!!\n",
            "random_forest_decision_tree85.pdf 에 84번째 tree 출력할 것임!!\n",
            "random_forest_decision_tree86.pdf 에 85번째 tree 출력할 것임!!\n",
            "random_forest_decision_tree87.pdf 에 86번째 tree 출력할 것임!!\n",
            "random_forest_decision_tree88.pdf 에 87번째 tree 출력할 것임!!\n",
            "random_forest_decision_tree89.pdf 에 88번째 tree 출력할 것임!!\n",
            "random_forest_decision_tree90.pdf 에 89번째 tree 출력할 것임!!\n",
            "random_forest_decision_tree91.pdf 에 90번째 tree 출력할 것임!!\n",
            "random_forest_decision_tree92.pdf 에 91번째 tree 출력할 것임!!\n",
            "random_forest_decision_tree93.pdf 에 92번째 tree 출력할 것임!!\n",
            "random_forest_decision_tree94.pdf 에 93번째 tree 출력할 것임!!\n",
            "random_forest_decision_tree95.pdf 에 94번째 tree 출력할 것임!!\n",
            "random_forest_decision_tree96.pdf 에 95번째 tree 출력할 것임!!\n",
            "random_forest_decision_tree97.pdf 에 96번째 tree 출력할 것임!!\n",
            "random_forest_decision_tree98.pdf 에 97번째 tree 출력할 것임!!\n",
            "random_forest_decision_tree99.pdf 에 98번째 tree 출력할 것임!!\n",
            "random_forest_decision_tree100.pdf 에 99번째 tree 출력할 것임!!\n"
          ],
          "name": "stdout"
        }
      ]
    },
    {
      "cell_type": "code",
      "metadata": {
        "id": "RD9gKpY6-zA7"
      },
      "source": [
        "for i in range(100):\r\n",
        "  filename=\"random_forest_decision_tree{}.pdf\".format(i+1)\r\n",
        "  \r\n",
        "  pydotplus.graph_from_dot_data( \r\n",
        "      \r\n",
        "      tree.export_graphviz(\r\n",
        "        clf.estimators_[i],\r\n",
        "        feature_names = [\"sepal length\",\"sepal width\",\"petal length\",\"petal width\"],\r\n",
        "        class_names=[\"setosa\", \"versicolor\",\"virsinica\"]\r\n",
        "      )\r\n",
        "      \r\n",
        "  ).write_pdf(filename)"
      ],
      "execution_count": null,
      "outputs": []
    },
    {
      "cell_type": "code",
      "metadata": {
        "colab": {
          "base_uri": "https://localhost:8080/"
        },
        "id": "wmrHfbaS-1z7",
        "outputId": "3931c721-c4b2-4378-a06e-43bfd8a1b3ef"
      },
      "source": [
        "clf.feature_importances_"
      ],
      "execution_count": null,
      "outputs": [
        {
          "output_type": "execute_result",
          "data": {
            "text/plain": [
              "array([0.08323397, 0.017879  , 0.44722188, 0.45166515])"
            ]
          },
          "metadata": {
            "tags": []
          },
          "execution_count": 28
        }
      ]
    },
    {
      "cell_type": "code",
      "metadata": {
        "colab": {
          "base_uri": "https://localhost:8080/"
        },
        "id": "QbMQaBP4_XLu",
        "outputId": "ec158356-267e-4767-d4bb-185771fcc292"
      },
      "source": [
        "zip(iris.feature_names ,clf.feature_importances_ )"
      ],
      "execution_count": null,
      "outputs": [
        {
          "output_type": "execute_result",
          "data": {
            "text/plain": [
              "<zip at 0x7f608aac5f48>"
            ]
          },
          "metadata": {
            "tags": []
          },
          "execution_count": 29
        }
      ]
    },
    {
      "cell_type": "code",
      "metadata": {
        "colab": {
          "base_uri": "https://localhost:8080/"
        },
        "id": "VpnOtIh2_gYl",
        "outputId": "1b45cfc4-b399-4b7b-a640-de67418fb93b"
      },
      "source": [
        "for data in zip(iris.feature_names ,clf.feature_importances_ ):\r\n",
        "  print(\"data=\",data)"
      ],
      "execution_count": null,
      "outputs": [
        {
          "output_type": "stream",
          "text": [
            "data= ('sepal length (cm)', 0.08323397177297392)\n",
            "data= ('sepal width (cm)', 0.017878998327880584)\n",
            "data= ('petal length (cm)', 0.4472218816226909)\n",
            "data= ('petal width (cm)', 0.4516651482764545)\n"
          ],
          "name": "stdout"
        }
      ]
    },
    {
      "cell_type": "code",
      "metadata": {
        "colab": {
          "base_uri": "https://localhost:8080/"
        },
        "id": "tjWebhxH_hnz",
        "outputId": "d6fe032e-1139-47c9-9441-a18e130f38a3"
      },
      "source": [
        "for name,ratio in zip(iris.feature_names ,clf.feature_importances_ ) :\r\n",
        "  print(\"name=\",name)\r\n",
        "  print(\"ratio=\",ratio)\r\n",
        "  print(\"=\"*50)"
      ],
      "execution_count": null,
      "outputs": [
        {
          "output_type": "stream",
          "text": [
            "name= sepal length (cm)\n",
            "ratio= 0.08323397177297392\n",
            "==================================================\n",
            "name= sepal width (cm)\n",
            "ratio= 0.017878998327880584\n",
            "==================================================\n",
            "name= petal length (cm)\n",
            "ratio= 0.4472218816226909\n",
            "==================================================\n",
            "name= petal width (cm)\n",
            "ratio= 0.4516651482764545\n",
            "==================================================\n"
          ],
          "name": "stdout"
        }
      ]
    },
    {
      "cell_type": "code",
      "metadata": {
        "id": "ltfQQpqJ_rTB"
      },
      "source": [
        ""
      ],
      "execution_count": null,
      "outputs": []
    }
  ]
}